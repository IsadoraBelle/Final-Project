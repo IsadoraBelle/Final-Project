{
 "cells": [
  {
   "cell_type": "markdown",
   "id": "b42750be",
   "metadata": {},
   "source": [
    "# 6.3 Geographic Visualization "
   ]
  },
  {
   "cell_type": "markdown",
   "id": "79b33072",
   "metadata": {},
   "source": [
    "### This script contains the following:\n",
    "#### 1. Import data and libraries\n",
    "#### 2. Data cleaning\n",
    "#### 3. Plotting a choropleth\n"
   ]
  },
  {
   "cell_type": "markdown",
   "id": "68feed96",
   "metadata": {},
   "source": [
    "### 1. Import data and libraries"
   ]
  },
  {
   "cell_type": "code",
   "execution_count": 1,
   "id": "d9392456",
   "metadata": {},
   "outputs": [],
   "source": [
    "#Importing Libraries\n",
    "\n",
    "import pandas as pd\n",
    "import numpy as np\n",
    "import seaborn as sns\n",
    "import matplotlib\n",
    "import os\n",
    "import folium\n",
    "import json"
   ]
  },
  {
   "cell_type": "code",
   "execution_count": 2,
   "id": "745ccb63",
   "metadata": {},
   "outputs": [],
   "source": [
    "# Prompting matplotlib visuals to appear in the notebook \n",
    "\n",
    "%matplotlib inline"
   ]
  },
  {
   "cell_type": "code",
   "execution_count": 49,
   "id": "7a718f4b",
   "metadata": {},
   "outputs": [],
   "source": [
    "# Importing \".json\" file for New South Wales LGA. \n",
    "\n",
    "country_geo = r'C:\\Users\\Sarah\\Desktop\\Data Course\\Task 6\\02 Data\\Original Data\\insurance [MConverter.eu].json'"
   ]
  },
  {
   "cell_type": "code",
   "execution_count": 50,
   "id": "cd7afb3a",
   "metadata": {},
   "outputs": [
    {
     "name": "stdout",
     "output_type": "stream",
     "text": [
      "{'type': 'Feature', 'properties': {'name': 'Midwest'}, 'geometry': {'type': 'Polygon', 'coordinates': [[[-104.32617187499999, 49.03786794532644], [-103.974609375, 41.04621681452063], [-101.6015625, 41.04621681452063], [-102.48046875, 37.020098201368114], [-94.5703125, 37.09023980307208], [-93.603515625, 36.4566360115962], [-89.296875, 37.23032838760387], [-87.71484375, 38.272688535980976], [-85.4296875, 38.54816542304656], [-84.638671875, 39.16414104768742], [-83.232421875, 38.75408327579141], [-82.177734375, 38.685509760012], [-80.85937499999999, 39.842286020743394], [-80.595703125, 41.57436130598913], [-83.583984375, 41.96765920367816], [-82.79296874999999, 42.4234565179383], [-82.705078125, 43.389081939117496], [-83.232421875, 43.70759350405294], [-84.111328125, 43.96119063892024], [-83.49609375, 44.653024159812], [-84.55078125, 45.460130637921004], [-85.4296875, 45.1510532655634], [-86.396484375, 44.213709909702054], [-86.220703125, 43.389081939117496], [-86.220703125, 42.16340342422401], [-87.1875, 41.64007838467894], [-87.62695312499999, 42.35854391749705], [-87.890625, 43.51668853502906], [-87.5390625, 44.5278427984555], [-87.62695312499999, 45.089035564831036], [-88.330078125, 45.89000815866184], [-91.0546875, 46.86019101567027], [-92.63671875, 46.558860303117164], [-90.17578124999999, 48.16608541901253], [-91.669921875, 48.16608541901253], [-94.658203125, 48.69096039092549], [-95.537109375, 49.15296965617042], [-104.32617187499999, 49.03786794532644]]]}}\n",
      "{'type': 'Feature', 'properties': {'name': 'Northeast'}, 'geometry': {'type': 'Polygon', 'coordinates': [[[-80.57373046875, 41.590796851056005], [-80.85937499999999, 39.791654835253425], [-75.8056640625, 39.690280594818034], [-75.4541015625, 39.67337039176558], [-74.794921875, 39.06184913429154], [-74.06982421875, 40.16208338164617], [-74.267578125, 40.44694705960048], [-74.24560546875, 40.613952441166596], [-72.1142578125, 40.94671366508002], [-73.47656249999999, 41.09591205639546], [-72.1142578125, 41.409775832009565], [-71.56494140625, 41.393294288784865], [-71.38916015625, 41.705728515237524], [-71.12548828125, 41.5579215778042], [-70.81787109374999, 41.68932225997044], [-70.59814453125, 41.75492216766298], [-70.48828125, 41.52502957323801], [-70.0048828125, 41.60722821271717], [-70.7958984375, 42.13082130188811], [-71.015625, 42.50450285299051], [-70.7958984375, 42.97250158602597], [-70.15869140625, 43.77109381775651], [-69.345703125, 43.91372326852401], [-68.97216796875, 44.213709909702054], [-68.79638671875, 44.68427737181225], [-68.48876953125, 44.512176171071054], [-68.31298828125, 44.6061127451739], [-68.115234375, 44.41808794374846], [-66.81884765625, 44.731125592643274], [-67.30224609375, 45.22848059584359], [-67.78564453125, 46.057985244793024], [-67.78564453125, 46.70973594407157], [-68.13720703125, 47.338822694822], [-68.97216796875, 47.14489748555398], [-69.2578125, 47.42808726171425], [-69.9609375, 46.81509864599243], [-70.13671875, 46.255846818480315], [-70.400390625, 45.706179285330855], [-70.751953125, 45.3521452458518], [-71.1474609375, 45.182036837015886], [-71.4990234375, 45.10454630976873], [-71.4990234375, 44.99588261816546], [-74.794921875, 45.042478050891546], [-75.87158203125, 44.41808794374846], [-76.13525390624999, 44.08758502824516], [-76.00341796875, 43.67581809328341], [-76.201171875, 43.54854811091286], [-76.88232421875, 43.34116005412307], [-77.1240234375, 43.18114705939968], [-77.54150390625, 43.27720532212024], [-78.79394531249999, 43.29320031385282], [-79.07958984375, 43.14909399920127], [-78.79394531249999, 42.8115217450979], [-78.94775390625, 42.56926437219384], [-79.73876953125, 42.114523952464246], [-80.33203125, 41.82045509614034], [-80.57373046875, 41.590796851056005]]]}}\n",
      "{'type': 'Feature', 'properties': {'name': 'South'}, 'geometry': {'type': 'Polygon', 'coordinates': [[[-102.48046875, 37.125286284966805], [-103.0078125, 37.125286284966805], [-102.9638671875, 32.0639555946604], [-106.6552734375, 31.914867503276223], [-105.16113281249999, 30.751277776257812], [-104.4140625, 29.611670115197377], [-103.22753906249999, 29.036960648558267], [-102.3046875, 30.29701788337205], [-101.337890625, 29.6880527498568], [-99.6240234375, 27.488781168937997], [-98.96484375, 26.352497858154024], [-98.0419921875, 26.194876675795218], [-97.20703125, 25.958044673317843], [-97.5146484375, 27.0982539061379], [-97.470703125, 27.994401411046148], [-96.8994140625, 28.497660832963472], [-95.6689453125, 28.92163128242129], [-95.00976562499999, 29.19053283229458], [-95.00976562499999, 29.84064389983441], [-94.3505859375, 29.611670115197377], [-93.55957031249999, 29.80251790576445], [-93.3837890625, 29.878755346037977], [-92.28515625, 29.57345707301757], [-91.93359375, 29.954934549656144], [-91.40625, 29.6880527498568], [-91.40625, 30.107117887092357], [-91.1865234375, 29.6880527498568], [-90.791015625, 29.305561325527698], [-89.9560546875, 29.49698759653577], [-89.8681640625, 30.06909396443887], [-89.5166015625, 30.29701788337205], [-87.978515625, 30.600093873550072], [-86.7919921875, 30.44867367928756], [-86.220703125, 30.44867367928756], [-85.7373046875, 30.107117887092357], [-85.0341796875, 29.878755346037977], [-83.9794921875, 30.14512718337613], [-83.232421875, 29.305561325527698], [-82.529296875, 28.729130483430154], [-82.5732421875, 27.877928333679495], [-82.44140625, 27.293689224852407], [-81.82617187499999, 26.509904531413927], [-81.0791015625, 25.878994400196202], [-80.85937499999999, 25.284437746983055], [-80.15625, 25.522614647623293], [-79.9365234375, 26.54922257769204], [-80.15625, 27.254629577800063], [-80.5078125, 28.14950321154457], [-81.1669921875, 29.458731185355344], [-81.4306640625, 30.183121842195515], [-81.650390625, 30.90222470517144], [-81.474609375, 31.615965936476076], [-80.9912109375, 32.0639555946604], [-79.98046875, 32.84267363195431], [-79.40917968749999, 33.358061612778876], [-77.6953125, 34.27083595165], [-76.81640625, 34.813803317113155], [-76.81640625, 35.496456056584165], [-75.76171875, 35.67514743608467], [-76.1572265625, 35.96022296929667], [-76.640625, 36.10237644873644], [-76.201171875, 36.35052700542763], [-76.11328125, 37.020098201368114], [-76.6845703125, 37.37015718405753], [-76.46484375, 37.71859032558816], [-75.89355468749999, 37.405073750176925], [-75.234375, 38.30718056188316], [-75.8056640625, 39.67337039176558], [-80.85937499999999, 39.774769485295465], [-82.08984375, 38.61687046392973], [-84.4189453125, 39.06184913429154], [-85.60546875, 38.54816542304656], [-87.890625, 38.30718056188316], [-89.1650390625, 37.19533058280065], [-93.603515625, 36.421282443649496], [-94.7021484375, 37.020098201368114], [-102.48046875, 37.125286284966805]]]}}\n",
      "{'type': 'Feature', 'properties': {'name': 'West'}, 'geometry': {'type': 'Polygon', 'coordinates': [[[-104.3701171875, 49.03786794532644], [-123.134765625, 49.03786794532644], [-122.3876953125, 48.37084770238366], [-122.08007812499999, 47.78363463526376], [-122.29980468749999, 47.487513008956554], [-122.51953124999999, 47.30903424774781], [-122.73925781250001, 47.12995075666307], [-123.04687499999999, 47.635783590864854], [-123.00292968749999, 48.10743118848039], [-123.8818359375, 48.16608541901253], [-124.541015625, 48.45835188280866], [-124.5849609375, 47.87214396888731], [-124.1015625, 47.07012182383309], [-123.96972656249999, 46.10370875598026], [-124.541015625, 42.97250158602597], [-124.1455078125, 41.77131167976407], [-124.365234375, 40.94671366508002], [-124.365234375, 40.3130432088809], [-123.662109375, 38.993572058209466], [-122.51953124999999, 37.85750715625203], [-122.03613281249999, 37.125286284966805], [-121.9482421875, 36.56260003738545], [-120.5419921875, 34.415973384481866], [-118.7841796875, 34.08906131584994], [-117.72949218749999, 33.7243396617476], [-117.158203125, 32.62087018318113], [-114.78515624999999, 32.76880048488168], [-111.005859375, 31.466153715024294], [-108.10546875, 31.466153715024294], [-107.9736328125, 31.80289258670676], [-106.5234375, 31.765537409484374], [-103.0078125, 32.10118973232094], [-103.1396484375, 37.125286284966805], [-102.568359375, 37.19533058280065], [-101.7333984375, 40.97989806962013], [-104.0185546875, 41.07935114946899], [-104.3701171875, 49.03786794532644]]]}}\n"
     ]
    }
   ],
   "source": [
    "f = open(r'C:\\Users\\Sarah\\Desktop\\Data Course\\Task 6\\02 Data\\Original Data\\insurance [MConverter.eu].json',)\n",
    "  \n",
    "# returns JSON object asa dictionary\n",
    "data = json.load(f)\n",
    "  \n",
    "# Iterating through the json list\n",
    "for i in data['features']:\n",
    "    print(i)"
   ]
  },
  {
   "cell_type": "code",
   "execution_count": 83,
   "id": "3c3a4996",
   "metadata": {},
   "outputs": [],
   "source": [
    "# Import insurance data\n",
    "\n",
    "#Importing data set insurance.csv\n",
    "df = pd.read_csv(r'C:\\Users\\Sarah\\Desktop\\Data Course\\Task 6\\02 Data\\Original Data\\insurancecsv.csv', index_col = False)"
   ]
  },
  {
   "cell_type": "code",
   "execution_count": 84,
   "id": "68e5cfde",
   "metadata": {
    "scrolled": true
   },
   "outputs": [
    {
     "data": {
      "text/html": [
       "<div>\n",
       "<style scoped>\n",
       "    .dataframe tbody tr th:only-of-type {\n",
       "        vertical-align: middle;\n",
       "    }\n",
       "\n",
       "    .dataframe tbody tr th {\n",
       "        vertical-align: top;\n",
       "    }\n",
       "\n",
       "    .dataframe thead th {\n",
       "        text-align: right;\n",
       "    }\n",
       "</style>\n",
       "<table border=\"1\" class=\"dataframe\">\n",
       "  <thead>\n",
       "    <tr style=\"text-align: right;\">\n",
       "      <th></th>\n",
       "      <th>Row Labels</th>\n",
       "      <th>Average of bmi</th>\n",
       "    </tr>\n",
       "  </thead>\n",
       "  <tbody>\n",
       "    <tr>\n",
       "      <th>0</th>\n",
       "      <td>northeast</td>\n",
       "      <td>29.173503</td>\n",
       "    </tr>\n",
       "    <tr>\n",
       "      <th>1</th>\n",
       "      <td>northwest</td>\n",
       "      <td>29.199785</td>\n",
       "    </tr>\n",
       "    <tr>\n",
       "      <th>2</th>\n",
       "      <td>southeast</td>\n",
       "      <td>33.355989</td>\n",
       "    </tr>\n",
       "    <tr>\n",
       "      <th>3</th>\n",
       "      <td>southwest</td>\n",
       "      <td>30.596615</td>\n",
       "    </tr>\n",
       "  </tbody>\n",
       "</table>\n",
       "</div>"
      ],
      "text/plain": [
       "  Row Labels  Average of bmi\n",
       "0  northeast       29.173503\n",
       "1  northwest       29.199785\n",
       "2  southeast       33.355989\n",
       "3  southwest       30.596615"
      ]
     },
     "execution_count": 84,
     "metadata": {},
     "output_type": "execute_result"
    }
   ],
   "source": [
    "df.head()"
   ]
  },
  {
   "cell_type": "code",
   "execution_count": 94,
   "id": "c31f18fd",
   "metadata": {},
   "outputs": [],
   "source": [
    "df.rename(columns = {'Row Labels' : 'Region', 'Average of bmi': 'BMI Average'}, inplace = True)"
   ]
  },
  {
   "cell_type": "code",
   "execution_count": 95,
   "id": "444c40fe",
   "metadata": {},
   "outputs": [
    {
     "data": {
      "text/plain": [
       "(4, 2)"
      ]
     },
     "execution_count": 95,
     "metadata": {},
     "output_type": "execute_result"
    }
   ],
   "source": [
    "df.shape"
   ]
  },
  {
   "cell_type": "code",
   "execution_count": 96,
   "id": "f3e71b70",
   "metadata": {
    "scrolled": true
   },
   "outputs": [
    {
     "name": "stdout",
     "output_type": "stream",
     "text": [
      "<class 'pandas.core.frame.DataFrame'>\n",
      "RangeIndex: 4 entries, 0 to 3\n",
      "Data columns (total 2 columns):\n",
      " #   Column       Non-Null Count  Dtype  \n",
      "---  ------       --------------  -----  \n",
      " 0   Region       4 non-null      object \n",
      " 1   BMI Average  4 non-null      float64\n",
      "dtypes: float64(1), object(1)\n",
      "memory usage: 192.0+ bytes\n"
     ]
    }
   ],
   "source": [
    "df.info()"
   ]
  },
  {
   "cell_type": "markdown",
   "id": "98cb5ba2",
   "metadata": {},
   "source": [
    "### 2. Conduct consistency checks"
   ]
  },
  {
   "cell_type": "code",
   "execution_count": 97,
   "id": "bb60f657",
   "metadata": {},
   "outputs": [
    {
     "data": {
      "text/plain": [
       "Region         0\n",
       "BMI Average    0\n",
       "dtype: int64"
      ]
     },
     "execution_count": 97,
     "metadata": {},
     "output_type": "execute_result"
    }
   ],
   "source": [
    "# Check for missing values\n",
    "\n",
    "df.isnull().sum()"
   ]
  },
  {
   "cell_type": "markdown",
   "id": "1fec4944",
   "metadata": {},
   "source": [
    "##### Duplicates check"
   ]
  },
  {
   "cell_type": "code",
   "execution_count": 98,
   "id": "412da6ee",
   "metadata": {},
   "outputs": [],
   "source": [
    "dups = df.duplicated()"
   ]
  },
  {
   "cell_type": "code",
   "execution_count": 99,
   "id": "6356df02",
   "metadata": {},
   "outputs": [
    {
     "data": {
      "text/plain": [
       "(4,)"
      ]
     },
     "execution_count": 99,
     "metadata": {},
     "output_type": "execute_result"
    }
   ],
   "source": [
    "dups.shape # no dups"
   ]
  },
  {
   "cell_type": "code",
   "execution_count": 100,
   "id": "aebeb07b",
   "metadata": {},
   "outputs": [],
   "source": [
    "##### Extreme values checks"
   ]
  },
  {
   "cell_type": "code",
   "execution_count": 102,
   "id": "5cfe57c3",
   "metadata": {},
   "outputs": [
    {
     "data": {
      "text/plain": [
       "<AxesSubplot:xlabel='BMI Average', ylabel='Count'>"
      ]
     },
     "execution_count": 102,
     "metadata": {},
     "output_type": "execute_result"
    },
    {
     "data": {
      "image/png": "[encoded data removed]",
      "text/plain": [
       "<Figure size 640x480 with 1 Axes>"
      ]
     },
     "metadata": {},
     "output_type": "display_data"
    }
   ],
   "source": [
    "sns.histplot(df['BMI Average'], bins=20, kde = True) # shows extreme values for 'bmi'"
   ]
  },
  {
   "cell_type": "markdown",
   "id": "2465cbdd",
   "metadata": {},
   "source": [
    "### 3. Data Cleaning"
   ]
  },
  {
   "cell_type": "code",
   "execution_count": 103,
   "id": "9f865173",
   "metadata": {},
   "outputs": [
    {
     "data": {
      "text/plain": [
       "northeast    1\n",
       "northwest    1\n",
       "southeast    1\n",
       "southwest    1\n",
       "Name: Region, dtype: int64"
      ]
     },
     "execution_count": 103,
     "metadata": {},
     "output_type": "execute_result"
    }
   ],
   "source": [
    "# The frequency of listing by region\n",
    "df['Region'].value_counts(dropna = False)"
   ]
  },
  {
   "cell_type": "code",
   "execution_count": 104,
   "id": "dfad066d",
   "metadata": {},
   "outputs": [
    {
     "data": {
      "text/plain": [
       "(4, 2)"
      ]
     },
     "execution_count": 104,
     "metadata": {},
     "output_type": "execute_result"
    }
   ],
   "source": [
    "df.shape"
   ]
  },
  {
   "cell_type": "markdown",
   "id": "bf587f63",
   "metadata": {},
   "source": [
    "### 4. Plotting a choropleth"
   ]
  },
  {
   "cell_type": "code",
   "execution_count": 105,
   "id": "9684f9e4",
   "metadata": {},
   "outputs": [
    {
     "data": {
      "text/html": [
       "<div>\n",
       "<style scoped>\n",
       "    .dataframe tbody tr th:only-of-type {\n",
       "        vertical-align: middle;\n",
       "    }\n",
       "\n",
       "    .dataframe tbody tr th {\n",
       "        vertical-align: top;\n",
       "    }\n",
       "\n",
       "    .dataframe thead th {\n",
       "        text-align: right;\n",
       "    }\n",
       "</style>\n",
       "<table border=\"1\" class=\"dataframe\">\n",
       "  <thead>\n",
       "    <tr style=\"text-align: right;\">\n",
       "      <th></th>\n",
       "      <th>Region</th>\n",
       "      <th>BMI Average</th>\n",
       "    </tr>\n",
       "  </thead>\n",
       "  <tbody>\n",
       "    <tr>\n",
       "      <th>0</th>\n",
       "      <td>northeast</td>\n",
       "      <td>29.173503</td>\n",
       "    </tr>\n",
       "    <tr>\n",
       "      <th>1</th>\n",
       "      <td>northwest</td>\n",
       "      <td>29.199785</td>\n",
       "    </tr>\n",
       "    <tr>\n",
       "      <th>2</th>\n",
       "      <td>southeast</td>\n",
       "      <td>33.355989</td>\n",
       "    </tr>\n",
       "    <tr>\n",
       "      <th>3</th>\n",
       "      <td>southwest</td>\n",
       "      <td>30.596615</td>\n",
       "    </tr>\n",
       "  </tbody>\n",
       "</table>\n",
       "</div>"
      ],
      "text/plain": [
       "      Region  BMI Average\n",
       "0  northeast    29.173503\n",
       "1  northwest    29.199785\n",
       "2  southeast    33.355989\n",
       "3  southwest    30.596615"
      ]
     },
     "execution_count": 105,
     "metadata": {},
     "output_type": "execute_result"
    }
   ],
   "source": [
    "# Create a data frame with just the states and the values for rating we want plotted\n",
    "\n",
    "data_to_plot = df[['Region','BMI Average']]\n",
    "data_to_plot.head(100)"
   ]
  },
  {
   "cell_type": "code",
   "execution_count": 108,
   "id": "7631c4a3",
   "metadata": {},
   "outputs": [
    {
     "data": {
      "text/html": [
       "<div style=\"width:100%;\"><div style=\"position:relative;width:100%;height:0;padding-bottom:60%;\"><span style=\"color:#565656\">Make this Notebook Trusted to load map: File -> Trust Notebook</span><iframe srcdoc=\"&lt;!DOCTYPE html&gt;\n",
       "&lt;html&gt;\n",
       "&lt;head&gt;\n",
       "    \n",
       "    &lt;meta http-equiv=&quot;content-type&quot; content=&quot;text/html; charset=UTF-8&quot; /&gt;\n",
       "    \n",
       "        &lt;script&gt;\n",
       "            L_NO_TOUCH = false;\n",
       "            L_DISABLE_3D = false;\n",
       "        &lt;/script&gt;\n",
       "    \n",
       "    &lt;style&gt;html, body {width: 100%;height: 100%;margin: 0;padding: 0;}&lt;/style&gt;\n",
       "    &lt;style&gt;#map {position:absolute;top:0;bottom:0;right:0;left:0;}&lt;/style&gt;\n",
       "    &lt;script src=&quot;https://cdn.jsdelivr.net/npm/leaflet@1.9.3/dist/leaflet.js&quot;&gt;&lt;/script&gt;\n",
       "    &lt;script src=&quot;https://code.jquery.com/jquery-1.12.4.min.js&quot;&gt;&lt;/script&gt;\n",
       "    &lt;script src=&quot;https://cdn.jsdelivr.net/npm/bootstrap@5.2.2/dist/js/bootstrap.bundle.min.js&quot;&gt;&lt;/script&gt;\n",
       "    &lt;script src=&quot;https://cdnjs.cloudflare.com/ajax/libs/Leaflet.awesome-markers/2.0.2/leaflet.awesome-markers.js&quot;&gt;&lt;/script&gt;\n",
       "    &lt;link rel=&quot;stylesheet&quot; href=&quot;https://cdn.jsdelivr.net/npm/leaflet@1.9.3/dist/leaflet.css&quot;/&gt;\n",
       "    &lt;link rel=&quot;stylesheet&quot; href=&quot;https://cdn.jsdelivr.net/npm/bootstrap@5.2.2/dist/css/bootstrap.min.css&quot;/&gt;\n",
       "    &lt;link rel=&quot;stylesheet&quot; href=&quot;https://netdna.bootstrapcdn.com/bootstrap/3.0.0/css/bootstrap.min.css&quot;/&gt;\n",
       "    &lt;link rel=&quot;stylesheet&quot; href=&quot;https://cdn.jsdelivr.net/npm/@fortawesome/fontawesome-free@6.2.0/css/all.min.css&quot;/&gt;\n",
       "    &lt;link rel=&quot;stylesheet&quot; href=&quot;https://cdnjs.cloudflare.com/ajax/libs/Leaflet.awesome-markers/2.0.2/leaflet.awesome-markers.css&quot;/&gt;\n",
       "    &lt;link rel=&quot;stylesheet&quot; href=&quot;https://cdn.jsdelivr.net/gh/python-visualization/folium/folium/templates/leaflet.awesome.rotate.min.css&quot;/&gt;\n",
       "    \n",
       "            &lt;meta name=&quot;viewport&quot; content=&quot;width=device-width,\n",
       "                initial-scale=1.0, maximum-scale=1.0, user-scalable=no&quot; /&gt;\n",
       "            &lt;style&gt;\n",
       "                #map_dc10c9194190877454c794944df8b849 {\n",
       "                    position: relative;\n",
       "                    width: 100.0%;\n",
       "                    height: 100.0%;\n",
       "                    left: 0.0%;\n",
       "                    top: 0.0%;\n",
       "                }\n",
       "                .leaflet-container { font-size: 1rem; }\n",
       "            &lt;/style&gt;\n",
       "        \n",
       "    &lt;script src=&quot;https://cdnjs.cloudflare.com/ajax/libs/d3/3.5.5/d3.min.js&quot;&gt;&lt;/script&gt;\n",
       "&lt;/head&gt;\n",
       "&lt;body&gt;\n",
       "    \n",
       "    \n",
       "            &lt;div class=&quot;folium-map&quot; id=&quot;map_dc10c9194190877454c794944df8b849&quot; &gt;&lt;/div&gt;\n",
       "        \n",
       "&lt;/body&gt;\n",
       "&lt;script&gt;\n",
       "    \n",
       "    \n",
       "            var map_dc10c9194190877454c794944df8b849 = L.map(\n",
       "                &quot;map_dc10c9194190877454c794944df8b849&quot;,\n",
       "                {\n",
       "                    center: [100.0, 0.0],\n",
       "                    crs: L.CRS.EPSG3857,\n",
       "                    zoom: 1.5,\n",
       "                    zoomControl: true,\n",
       "                    preferCanvas: false,\n",
       "                }\n",
       "            );\n",
       "\n",
       "            \n",
       "\n",
       "        \n",
       "    \n",
       "            var tile_layer_a2d7597373af456227600b014f01b96a = L.tileLayer(\n",
       "                &quot;https://{s}.tile.openstreetmap.org/{z}/{x}/{y}.png&quot;,\n",
       "                {&quot;attribution&quot;: &quot;Data by \\u0026copy; \\u003ca target=\\&quot;_blank\\&quot; href=\\&quot;http://openstreetmap.org\\&quot;\\u003eOpenStreetMap\\u003c/a\\u003e, under \\u003ca target=\\&quot;_blank\\&quot; href=\\&quot;http://www.openstreetmap.org/copyright\\&quot;\\u003eODbL\\u003c/a\\u003e.&quot;, &quot;detectRetina&quot;: false, &quot;maxNativeZoom&quot;: 18, &quot;maxZoom&quot;: 18, &quot;minZoom&quot;: 0, &quot;noWrap&quot;: false, &quot;opacity&quot;: 1, &quot;subdomains&quot;: &quot;abc&quot;, &quot;tms&quot;: false}\n",
       "            ).addTo(map_dc10c9194190877454c794944df8b849);\n",
       "        \n",
       "    \n",
       "            var choropleth_028c2b3465861de0d9449a0bdfefa0cf = L.featureGroup(\n",
       "                {}\n",
       "            ).addTo(map_dc10c9194190877454c794944df8b849);\n",
       "        \n",
       "    \n",
       "        function geo_json_7b4d7858b939b0c567e5d82f685cc4d5_styler(feature) {\n",
       "            switch(feature.properties.name) {\n",
       "                default:\n",
       "                    return {&quot;color&quot;: &quot;black&quot;, &quot;fillColor&quot;: &quot;black&quot;, &quot;fillOpacity&quot;: 0.6, &quot;opacity&quot;: 0.1, &quot;weight&quot;: 1};\n",
       "            }\n",
       "        }\n",
       "\n",
       "        function geo_json_7b4d7858b939b0c567e5d82f685cc4d5_onEachFeature(feature, layer) {\n",
       "            layer.on({\n",
       "            });\n",
       "        };\n",
       "        var geo_json_7b4d7858b939b0c567e5d82f685cc4d5 = L.geoJson(null, {\n",
       "                onEachFeature: geo_json_7b4d7858b939b0c567e5d82f685cc4d5_onEachFeature,\n",
       "            \n",
       "                style: geo_json_7b4d7858b939b0c567e5d82f685cc4d5_styler,\n",
       "        });\n",
       "\n",
       "        function geo_json_7b4d7858b939b0c567e5d82f685cc4d5_add (data) {\n",
       "            geo_json_7b4d7858b939b0c567e5d82f685cc4d5\n",
       "                .addData(data)\n",
       "                .addTo(choropleth_028c2b3465861de0d9449a0bdfefa0cf);\n",
       "        }\n",
       "            geo_json_7b4d7858b939b0c567e5d82f685cc4d5_add({&quot;features&quot;: [{&quot;geometry&quot;: {&quot;coordinates&quot;: [[[-104.32617187499999, 49.03786794532644], [-103.974609375, 41.04621681452063], [-101.6015625, 41.04621681452063], [-102.48046875, 37.020098201368114], [-94.5703125, 37.09023980307208], [-93.603515625, 36.4566360115962], [-89.296875, 37.23032838760387], [-87.71484375, 38.272688535980976], [-85.4296875, 38.54816542304656], [-84.638671875, 39.16414104768742], [-83.232421875, 38.75408327579141], [-82.177734375, 38.685509760012], [-80.85937499999999, 39.842286020743394], [-80.595703125, 41.57436130598913], [-83.583984375, 41.96765920367816], [-82.79296874999999, 42.4234565179383], [-82.705078125, 43.389081939117496], [-83.232421875, 43.70759350405294], [-84.111328125, 43.96119063892024], [-83.49609375, 44.653024159812], [-84.55078125, 45.460130637921004], [-85.4296875, 45.1510532655634], [-86.396484375, 44.213709909702054], [-86.220703125, 43.389081939117496], [-86.220703125, 42.16340342422401], [-87.1875, 41.64007838467894], [-87.62695312499999, 42.35854391749705], [-87.890625, 43.51668853502906], [-87.5390625, 44.5278427984555], [-87.62695312499999, 45.089035564831036], [-88.330078125, 45.89000815866184], [-91.0546875, 46.86019101567027], [-92.63671875, 46.558860303117164], [-90.17578124999999, 48.16608541901253], [-91.669921875, 48.16608541901253], [-94.658203125, 48.69096039092549], [-95.537109375, 49.15296965617042], [-104.32617187499999, 49.03786794532644]]], &quot;type&quot;: &quot;Polygon&quot;}, &quot;properties&quot;: {&quot;name&quot;: &quot;Midwest&quot;}, &quot;type&quot;: &quot;Feature&quot;}, {&quot;geometry&quot;: {&quot;coordinates&quot;: [[[-80.57373046875, 41.590796851056005], [-80.85937499999999, 39.791654835253425], [-75.8056640625, 39.690280594818034], [-75.4541015625, 39.67337039176558], [-74.794921875, 39.06184913429154], [-74.06982421875, 40.16208338164617], [-74.267578125, 40.44694705960048], [-74.24560546875, 40.613952441166596], [-72.1142578125, 40.94671366508002], [-73.47656249999999, 41.09591205639546], [-72.1142578125, 41.409775832009565], [-71.56494140625, 41.393294288784865], [-71.38916015625, 41.705728515237524], [-71.12548828125, 41.5579215778042], [-70.81787109374999, 41.68932225997044], [-70.59814453125, 41.75492216766298], [-70.48828125, 41.52502957323801], [-70.0048828125, 41.60722821271717], [-70.7958984375, 42.13082130188811], [-71.015625, 42.50450285299051], [-70.7958984375, 42.97250158602597], [-70.15869140625, 43.77109381775651], [-69.345703125, 43.91372326852401], [-68.97216796875, 44.213709909702054], [-68.79638671875, 44.68427737181225], [-68.48876953125, 44.512176171071054], [-68.31298828125, 44.6061127451739], [-68.115234375, 44.41808794374846], [-66.81884765625, 44.731125592643274], [-67.30224609375, 45.22848059584359], [-67.78564453125, 46.057985244793024], [-67.78564453125, 46.70973594407157], [-68.13720703125, 47.338822694822], [-68.97216796875, 47.14489748555398], [-69.2578125, 47.42808726171425], [-69.9609375, 46.81509864599243], [-70.13671875, 46.255846818480315], [-70.400390625, 45.706179285330855], [-70.751953125, 45.3521452458518], [-71.1474609375, 45.182036837015886], [-71.4990234375, 45.10454630976873], [-71.4990234375, 44.99588261816546], [-74.794921875, 45.042478050891546], [-75.87158203125, 44.41808794374846], [-76.13525390624999, 44.08758502824516], [-76.00341796875, 43.67581809328341], [-76.201171875, 43.54854811091286], [-76.88232421875, 43.34116005412307], [-77.1240234375, 43.18114705939968], [-77.54150390625, 43.27720532212024], [-78.79394531249999, 43.29320031385282], [-79.07958984375, 43.14909399920127], [-78.79394531249999, 42.8115217450979], [-78.94775390625, 42.56926437219384], [-79.73876953125, 42.114523952464246], [-80.33203125, 41.82045509614034], [-80.57373046875, 41.590796851056005]]], &quot;type&quot;: &quot;Polygon&quot;}, &quot;properties&quot;: {&quot;name&quot;: &quot;Northeast&quot;}, &quot;type&quot;: &quot;Feature&quot;}, {&quot;geometry&quot;: {&quot;coordinates&quot;: [[[-102.48046875, 37.125286284966805], [-103.0078125, 37.125286284966805], [-102.9638671875, 32.0639555946604], [-106.6552734375, 31.914867503276223], [-105.16113281249999, 30.751277776257812], [-104.4140625, 29.611670115197377], [-103.22753906249999, 29.036960648558267], [-102.3046875, 30.29701788337205], [-101.337890625, 29.6880527498568], [-99.6240234375, 27.488781168937997], [-98.96484375, 26.352497858154024], [-98.0419921875, 26.194876675795218], [-97.20703125, 25.958044673317843], [-97.5146484375, 27.0982539061379], [-97.470703125, 27.994401411046148], [-96.8994140625, 28.497660832963472], [-95.6689453125, 28.92163128242129], [-95.00976562499999, 29.19053283229458], [-95.00976562499999, 29.84064389983441], [-94.3505859375, 29.611670115197377], [-93.55957031249999, 29.80251790576445], [-93.3837890625, 29.878755346037977], [-92.28515625, 29.57345707301757], [-91.93359375, 29.954934549656144], [-91.40625, 29.6880527498568], [-91.40625, 30.107117887092357], [-91.1865234375, 29.6880527498568], [-90.791015625, 29.305561325527698], [-89.9560546875, 29.49698759653577], [-89.8681640625, 30.06909396443887], [-89.5166015625, 30.29701788337205], [-87.978515625, 30.600093873550072], [-86.7919921875, 30.44867367928756], [-86.220703125, 30.44867367928756], [-85.7373046875, 30.107117887092357], [-85.0341796875, 29.878755346037977], [-83.9794921875, 30.14512718337613], [-83.232421875, 29.305561325527698], [-82.529296875, 28.729130483430154], [-82.5732421875, 27.877928333679495], [-82.44140625, 27.293689224852407], [-81.82617187499999, 26.509904531413927], [-81.0791015625, 25.878994400196202], [-80.85937499999999, 25.284437746983055], [-80.15625, 25.522614647623293], [-79.9365234375, 26.54922257769204], [-80.15625, 27.254629577800063], [-80.5078125, 28.14950321154457], [-81.1669921875, 29.458731185355344], [-81.4306640625, 30.183121842195515], [-81.650390625, 30.90222470517144], [-81.474609375, 31.615965936476076], [-80.9912109375, 32.0639555946604], [-79.98046875, 32.84267363195431], [-79.40917968749999, 33.358061612778876], [-77.6953125, 34.27083595165], [-76.81640625, 34.813803317113155], [-76.81640625, 35.496456056584165], [-75.76171875, 35.67514743608467], [-76.1572265625, 35.96022296929667], [-76.640625, 36.10237644873644], [-76.201171875, 36.35052700542763], [-76.11328125, 37.020098201368114], [-76.6845703125, 37.37015718405753], [-76.46484375, 37.71859032558816], [-75.89355468749999, 37.405073750176925], [-75.234375, 38.30718056188316], [-75.8056640625, 39.67337039176558], [-80.85937499999999, 39.774769485295465], [-82.08984375, 38.61687046392973], [-84.4189453125, 39.06184913429154], [-85.60546875, 38.54816542304656], [-87.890625, 38.30718056188316], [-89.1650390625, 37.19533058280065], [-93.603515625, 36.421282443649496], [-94.7021484375, 37.020098201368114], [-102.48046875, 37.125286284966805]]], &quot;type&quot;: &quot;Polygon&quot;}, &quot;properties&quot;: {&quot;name&quot;: &quot;South&quot;}, &quot;type&quot;: &quot;Feature&quot;}, {&quot;geometry&quot;: {&quot;coordinates&quot;: [[[-104.3701171875, 49.03786794532644], [-123.134765625, 49.03786794532644], [-122.3876953125, 48.37084770238366], [-122.08007812499999, 47.78363463526376], [-122.29980468749999, 47.487513008956554], [-122.51953124999999, 47.30903424774781], [-122.73925781250001, 47.12995075666307], [-123.04687499999999, 47.635783590864854], [-123.00292968749999, 48.10743118848039], [-123.8818359375, 48.16608541901253], [-124.541015625, 48.45835188280866], [-124.5849609375, 47.87214396888731], [-124.1015625, 47.07012182383309], [-123.96972656249999, 46.10370875598026], [-124.541015625, 42.97250158602597], [-124.1455078125, 41.77131167976407], [-124.365234375, 40.94671366508002], [-124.365234375, 40.3130432088809], [-123.662109375, 38.993572058209466], [-122.51953124999999, 37.85750715625203], [-122.03613281249999, 37.125286284966805], [-121.9482421875, 36.56260003738545], [-120.5419921875, 34.415973384481866], [-118.7841796875, 34.08906131584994], [-117.72949218749999, 33.7243396617476], [-117.158203125, 32.62087018318113], [-114.78515624999999, 32.76880048488168], [-111.005859375, 31.466153715024294], [-108.10546875, 31.466153715024294], [-107.9736328125, 31.80289258670676], [-106.5234375, 31.765537409484374], [-103.0078125, 32.10118973232094], [-103.1396484375, 37.125286284966805], [-102.568359375, 37.19533058280065], [-101.7333984375, 40.97989806962013], [-104.0185546875, 41.07935114946899], [-104.3701171875, 49.03786794532644]]], &quot;type&quot;: &quot;Polygon&quot;}, &quot;properties&quot;: {&quot;name&quot;: &quot;West&quot;}, &quot;type&quot;: &quot;Feature&quot;}], &quot;type&quot;: &quot;FeatureCollection&quot;});\n",
       "\n",
       "        \n",
       "    \n",
       "    var color_map_4e5bfef32cc5b41968a6d190f70d4aff = {};\n",
       "\n",
       "    \n",
       "    color_map_4e5bfef32cc5b41968a6d190f70d4aff.color = d3.scale.threshold()\n",
       "              .domain([29.17350309, 29.181884825310622, 29.190266560621243, 29.198648295931864, 29.207030031242486, 29.215411766553107, 29.223793501863728, 29.23217523717435, 29.24055697248497, 29.248938707795592, 29.257320443106213, 29.265702178416834, 29.274083913727456, 29.282465649038077, 29.290847384348698, 29.29922911965932, 29.30761085496994, 29.315992590280562, 29.324374325591183, 29.332756060901804, 29.341137796212426, 29.349519531523047, 29.357901266833668, 29.36628300214429, 29.37466473745491, 29.383046472765532, 29.391428208076153, 29.399809943386774, 29.408191678697396, 29.416573414008017, 29.424955149318638, 29.43333688462926, 29.44171861993988, 29.450100355250502, 29.458482090561123, 29.466863825871744, 29.475245561182366, 29.483627296492987, 29.492009031803608, 29.50039076711423, 29.50877250242485, 29.517154237735472, 29.525535973046093, 29.533917708356714, 29.542299443667336, 29.550681178977957, 29.559062914288578, 29.5674446495992, 29.57582638490982, 29.584208120220442, 29.592589855531063, 29.600971590841684, 29.609353326152306, 29.617735061462927, 29.626116796773548, 29.63449853208417, 29.64288026739479, 29.651262002705412, 29.659643738016033, 29.668025473326654, 29.676407208637276, 29.684788943947897, 29.693170679258518, 29.70155241456914, 29.70993414987976, 29.718315885190382, 29.726697620501003, 29.735079355811624, 29.743461091122246, 29.751842826432867, 29.760224561743488, 29.76860629705411, 29.77698803236473, 29.785369767675352, 29.793751502985973, 29.802133238296594, 29.810514973607216, 29.818896708917837, 29.827278444228458, 29.83566017953908, 29.8440419148497, 29.852423650160322, 29.860805385470943, 29.869187120781564, 29.877568856092186, 29.885950591402807, 29.894332326713428, 29.90271406202405, 29.91109579733467, 29.919477532645292, 29.927859267955913, 29.936241003266534, 29.944622738577156, 29.953004473887777, 29.9613862091984, 29.96976794450902, 29.97814967981964, 29.986531415130262, 29.994913150440883, 30.003294885751504, 30.011676621062126, 30.020058356372747, 30.02844009168337, 30.03682182699399, 30.04520356230461, 30.053585297615232, 30.061967032925853, 30.070348768236475, 30.078730503547096, 30.087112238857717, 30.09549397416834, 30.10387570947896, 30.11225744478958, 30.120639180100202, 30.129020915410823, 30.137402650721445, 30.145784386032066, 30.154166121342687, 30.16254785665331, 30.17092959196393, 30.17931132727455, 30.187693062585172, 30.196074797895793, 30.204456533206415, 30.212838268517036, 30.221220003827657, 30.22960173913828, 30.2379834744489, 30.24636520975952, 30.254746945070142, 30.263128680380763, 30.271510415691385, 30.279892151002006, 30.288273886312627, 30.29665562162325, 30.30503735693387, 30.31341909224449, 30.321800827555112, 30.330182562865733, 30.338564298176355, 30.346946033486976, 30.355327768797597, 30.36370950410822, 30.37209123941884, 30.38047297472946, 30.388854710040082, 30.397236445350703, 30.405618180661325, 30.413999915971946, 30.422381651282567, 30.43076338659319, 30.43914512190381, 30.44752685721443, 30.455908592525052, 30.464290327835673, 30.472672063146295, 30.481053798456916, 30.489435533767537, 30.49781726907816, 30.50619900438878, 30.5145807396994, 30.522962475010022, 30.531344210320643, 30.539725945631265, 30.548107680941886, 30.556489416252507, 30.56487115156313, 30.57325288687375, 30.58163462218437, 30.590016357494992, 30.598398092805613, 30.606779828116235, 30.615161563426856, 30.623543298737477, 30.6319250340481, 30.64030676935872, 30.64868850466934, 30.657070239979962, 30.665451975290583, 30.673833710601205, 30.682215445911826, 30.690597181222447, 30.69897891653307, 30.70736065184369, 30.71574238715431, 30.724124122464932, 30.732505857775553, 30.740887593086175, 30.749269328396796, 30.757651063707417, 30.76603279901804, 30.77441453432866, 30.78279626963928, 30.791178004949902, 30.799559740260523, 30.807941475571145, 30.816323210881766, 30.824704946192387, 30.83308668150301, 30.84146841681363, 30.84985015212425, 30.858231887434872, 30.866613622745493, 30.874995358056115, 30.883377093366736, 30.891758828677357, 30.90014056398798, 30.9085222992986, 30.91690403460922, 30.925285769919842, 30.933667505230463, 30.942049240541085, 30.950430975851706, 30.958812711162327, 30.96719444647295, 30.97557618178357, 30.98395791709419, 30.992339652404812, 31.000721387715434, 31.009103123026055, 31.017484858336676, 31.025866593647297, 31.03424832895792, 31.04263006426854, 31.05101179957916, 31.059393534889782, 31.0677752702004, 31.076157005511025, 31.084538740821646, 31.092920476132267, 31.101302211442885, 31.10968394675351, 31.11806568206413, 31.126447417374752, 31.13482915268537, 31.14321088799599, 31.151592623306616, 31.159974358617237, 31.168356093927855, 31.176737829238476, 31.185119564549098, 31.19350129985972, 31.20188303517034, 31.21026477048096, 31.218646505791583, 31.227028241102204, 31.235409976412825, 31.24379171172345, 31.252173447034068, 31.26055518234469, 31.26893691765531, 31.27731865296593, 31.285700388276553, 31.294082123587174, 31.302463858897795, 31.310845594208416, 31.319227329519038, 31.32760906482966, 31.33599080014028, 31.3443725354509, 31.352754270761523, 31.361136006072144, 31.369517741382765, 31.377899476693386, 31.386281212004008, 31.39466294731463, 31.40304468262525, 31.41142641793587, 31.419808153246493, 31.428189888557114, 31.436571623867735, 31.444953359178356, 31.453335094488978, 31.4617168297996, 31.47009856511022, 31.47848030042084, 31.486862035731463, 31.495243771042084, 31.503625506352705, 31.512007241663326, 31.520388976973948, 31.52877071228457, 31.53715244759519, 31.54553418290581, 31.553915918216433, 31.562297653527054, 31.570679388837675, 31.579061124148296, 31.587442859458918, 31.59582459476954, 31.60420633008016, 31.61258806539078, 31.620969800701403, 31.629351536012024, 31.637733271322645, 31.646115006633266, 31.654496741943888, 31.66287847725451, 31.67126021256513, 31.67964194787575, 31.688023683186373, 31.696405418496994, 31.704787153807615, 31.713168889118236, 31.721550624428858, 31.72993235973948, 31.7383140950501, 31.74669583036072, 31.755077565671343, 31.763459300981964, 31.771841036292585, 31.780222771603206, 31.788604506913828, 31.79698624222445, 31.80536797753507, 31.81374971284569, 31.822131448156313, 31.830513183466934, 31.838894918777555, 31.847276654088176, 31.855658389398798, 31.86404012470942, 31.87242186002004, 31.88080359533066, 31.889185330641283, 31.897567065951904, 31.905948801262525, 31.914330536573146, 31.922712271883768, 31.93109400719439, 31.93947574250501, 31.94785747781563, 31.956239213126253, 31.964620948436874, 31.973002683747495, 31.981384419058116, 31.989766154368738, 31.99814788967936, 32.00652962498998, 32.0149113603006, 32.02329309561122, 32.031674830921844, 32.040056566232465, 32.04843830154309, 32.05682003685371, 32.06520177216433, 32.07358350747495, 32.08196524278557, 32.09034697809619, 32.098728713406814, 32.107110448717435, 32.11549218402806, 32.12387391933868, 32.1322556546493, 32.14063738995992, 32.14901912527054, 32.15740086058116, 32.165782595891784, 32.174164331202405, 32.18254606651303, 32.19092780182365, 32.19930953713427, 32.20769127244489, 32.21607300775551, 32.22445474306613, 32.232836478376754, 32.241218213687375, 32.249599948998, 32.25798168430862, 32.26636341961924, 32.27474515492986, 32.28312689024048, 32.2915086255511, 32.299890360861724, 32.308272096172345, 32.31665383148297, 32.32503556679359, 32.33341730210421, 32.34179903741483, 32.35018077272545, 32.35856250803607, 32.366944243346694, 32.375325978657315, 32.38370771396794, 32.39208944927856, 32.40047118458918, 32.4088529198998, 32.41723465521042, 32.42561639052104, 32.433998125831664, 32.442379861142285, 32.45076159645291, 32.45914333176353, 32.46752506707415, 32.47590680238477, 32.48428853769539, 32.49267027300601, 32.501052008316634, 32.509433743627255, 32.51781547893788, 32.5261972142485, 32.53457894955912, 32.54296068486974, 32.55134242018036, 32.55972415549098, 32.568105890801604, 32.576487626112225, 32.58486936142285, 32.59325109673347, 32.60163283204409, 32.61001456735471, 32.61839630266533, 32.62677803797595, 32.635159773286574, 32.643541508597195, 32.65192324390782, 32.66030497921844, 32.66868671452906, 32.67706844983968, 32.6854501851503, 32.69383192046092, 32.702213655771544, 32.710595391082165, 32.71897712639279, 32.72735886170341, 32.73574059701403, 32.74412233232465, 32.75250406763527, 32.76088580294589, 32.769267538256514, 32.777649273567135, 32.78603100887776, 32.79441274418838, 32.802794479499, 32.81117621480962, 32.81955795012024, 32.82793968543086, 32.836321420741484, 32.844703156052105, 32.85308489136273, 32.86146662667335, 32.86984836198397, 32.87823009729459, 32.88661183260521, 32.89499356791583, 32.903375303226454, 32.911757038537075, 32.9201387738477, 32.92852050915832, 32.93690224446894, 32.94528397977956, 32.95366571509018, 32.9620474504008, 32.970429185711424, 32.978810921022045, 32.98719265633267, 32.99557439164329, 33.00395612695391, 33.01233786226453, 33.02071959757515, 33.02910133288577, 33.037483068196394, 33.045864803507015, 33.05424653881764, 33.06262827412826, 33.07101000943888, 33.0793917447495, 33.08777348006012, 33.09615521537074, 33.104536950681364, 33.112918685991986, 33.12130042130261, 33.12968215661323, 33.13806389192385, 33.14644562723447, 33.15482736254509, 33.16320909785571, 33.171590833166334, 33.179972568476956, 33.18835430378758, 33.1967360390982, 33.20511777440882, 33.21349950971944, 33.22188124503006, 33.23026298034068, 33.238644715651304, 33.247026450961926, 33.25540818627255, 33.26378992158317, 33.27217165689379, 33.28055339220441, 33.28893512751503, 33.29731686282565, 33.305698598136274, 33.314080333446896, 33.32246206875752, 33.33084380406814, 33.33922553937876, 33.34760727468938, 33.35598901])\n",
       "              .range([&#x27;#ffffd4ff&#x27;, &#x27;#ffffd4ff&#x27;, &#x27;#ffffd4ff&#x27;, &#x27;#ffffd4ff&#x27;, &#x27;#ffffd4ff&#x27;, &#x27;#ffffd4ff&#x27;, &#x27;#ffffd4ff&#x27;, &#x27;#ffffd4ff&#x27;, &#x27;#ffffd4ff&#x27;, &#x27;#ffffd4ff&#x27;, &#x27;#ffffd4ff&#x27;, &#x27;#ffffd4ff&#x27;, &#x27;#ffffd4ff&#x27;, &#x27;#ffffd4ff&#x27;, &#x27;#ffffd4ff&#x27;, &#x27;#ffffd4ff&#x27;, &#x27;#ffffd4ff&#x27;, &#x27;#ffffd4ff&#x27;, &#x27;#ffffd4ff&#x27;, &#x27;#ffffd4ff&#x27;, &#x27;#ffffd4ff&#x27;, &#x27;#ffffd4ff&#x27;, &#x27;#ffffd4ff&#x27;, &#x27;#ffffd4ff&#x27;, &#x27;#ffffd4ff&#x27;, &#x27;#ffffd4ff&#x27;, &#x27;#ffffd4ff&#x27;, &#x27;#ffffd4ff&#x27;, &#x27;#ffffd4ff&#x27;, &#x27;#ffffd4ff&#x27;, &#x27;#ffffd4ff&#x27;, &#x27;#ffffd4ff&#x27;, &#x27;#ffffd4ff&#x27;, &#x27;#ffffd4ff&#x27;, &#x27;#ffffd4ff&#x27;, &#x27;#ffffd4ff&#x27;, &#x27;#ffffd4ff&#x27;, &#x27;#ffffd4ff&#x27;, &#x27;#ffffd4ff&#x27;, &#x27;#ffffd4ff&#x27;, &#x27;#ffffd4ff&#x27;, &#x27;#ffffd4ff&#x27;, &#x27;#ffffd4ff&#x27;, &#x27;#ffffd4ff&#x27;, &#x27;#ffffd4ff&#x27;, &#x27;#ffffd4ff&#x27;, &#x27;#ffffd4ff&#x27;, &#x27;#ffffd4ff&#x27;, &#x27;#ffffd4ff&#x27;, &#x27;#ffffd4ff&#x27;, &#x27;#ffffd4ff&#x27;, &#x27;#ffffd4ff&#x27;, &#x27;#ffffd4ff&#x27;, &#x27;#ffffd4ff&#x27;, &#x27;#ffffd4ff&#x27;, &#x27;#ffffd4ff&#x27;, &#x27;#ffffd4ff&#x27;, &#x27;#ffffd4ff&#x27;, &#x27;#ffffd4ff&#x27;, &#x27;#ffffd4ff&#x27;, &#x27;#ffffd4ff&#x27;, &#x27;#ffffd4ff&#x27;, &#x27;#ffffd4ff&#x27;, &#x27;#ffffd4ff&#x27;, &#x27;#ffffd4ff&#x27;, &#x27;#ffffd4ff&#x27;, &#x27;#ffffd4ff&#x27;, &#x27;#ffffd4ff&#x27;, &#x27;#ffffd4ff&#x27;, &#x27;#ffffd4ff&#x27;, &#x27;#ffffd4ff&#x27;, &#x27;#ffffd4ff&#x27;, &#x27;#ffffd4ff&#x27;, &#x27;#ffffd4ff&#x27;, &#x27;#ffffd4ff&#x27;, &#x27;#ffffd4ff&#x27;, &#x27;#ffffd4ff&#x27;, &#x27;#ffffd4ff&#x27;, &#x27;#ffffd4ff&#x27;, &#x27;#ffffd4ff&#x27;, &#x27;#ffffd4ff&#x27;, &#x27;#ffffd4ff&#x27;, &#x27;#ffffd4ff&#x27;, &#x27;#ffffd4ff&#x27;, &#x27;#fee391ff&#x27;, &#x27;#fee391ff&#x27;, &#x27;#fee391ff&#x27;, &#x27;#fee391ff&#x27;, &#x27;#fee391ff&#x27;, &#x27;#fee391ff&#x27;, &#x27;#fee391ff&#x27;, &#x27;#fee391ff&#x27;, &#x27;#fee391ff&#x27;, &#x27;#fee391ff&#x27;, &#x27;#fee391ff&#x27;, &#x27;#fee391ff&#x27;, &#x27;#fee391ff&#x27;, &#x27;#fee391ff&#x27;, &#x27;#fee391ff&#x27;, &#x27;#fee391ff&#x27;, &#x27;#fee391ff&#x27;, &#x27;#fee391ff&#x27;, &#x27;#fee391ff&#x27;, &#x27;#fee391ff&#x27;, &#x27;#fee391ff&#x27;, &#x27;#fee391ff&#x27;, &#x27;#fee391ff&#x27;, &#x27;#fee391ff&#x27;, &#x27;#fee391ff&#x27;, &#x27;#fee391ff&#x27;, &#x27;#fee391ff&#x27;, &#x27;#fee391ff&#x27;, &#x27;#fee391ff&#x27;, &#x27;#fee391ff&#x27;, &#x27;#fee391ff&#x27;, &#x27;#fee391ff&#x27;, &#x27;#fee391ff&#x27;, &#x27;#fee391ff&#x27;, &#x27;#fee391ff&#x27;, &#x27;#fee391ff&#x27;, &#x27;#fee391ff&#x27;, &#x27;#fee391ff&#x27;, &#x27;#fee391ff&#x27;, &#x27;#fee391ff&#x27;, &#x27;#fee391ff&#x27;, &#x27;#fee391ff&#x27;, &#x27;#fee391ff&#x27;, &#x27;#fee391ff&#x27;, &#x27;#fee391ff&#x27;, &#x27;#fee391ff&#x27;, &#x27;#fee391ff&#x27;, &#x27;#fee391ff&#x27;, &#x27;#fee391ff&#x27;, &#x27;#fee391ff&#x27;, &#x27;#fee391ff&#x27;, &#x27;#fee391ff&#x27;, &#x27;#fee391ff&#x27;, &#x27;#fee391ff&#x27;, &#x27;#fee391ff&#x27;, &#x27;#fee391ff&#x27;, &#x27;#fee391ff&#x27;, &#x27;#fee391ff&#x27;, &#x27;#fee391ff&#x27;, &#x27;#fee391ff&#x27;, &#x27;#fee391ff&#x27;, &#x27;#fee391ff&#x27;, &#x27;#fee391ff&#x27;, &#x27;#fee391ff&#x27;, &#x27;#fee391ff&#x27;, &#x27;#fee391ff&#x27;, &#x27;#fee391ff&#x27;, &#x27;#fee391ff&#x27;, &#x27;#fee391ff&#x27;, &#x27;#fee391ff&#x27;, &#x27;#fee391ff&#x27;, &#x27;#fee391ff&#x27;, &#x27;#fee391ff&#x27;, &#x27;#fee391ff&#x27;, &#x27;#fee391ff&#x27;, &#x27;#fee391ff&#x27;, &#x27;#fee391ff&#x27;, &#x27;#fee391ff&#x27;, &#x27;#fee391ff&#x27;, &#x27;#fee391ff&#x27;, &#x27;#fee391ff&#x27;, &#x27;#fee391ff&#x27;, &#x27;#fee391ff&#x27;, &#x27;#fec44fff&#x27;, &#x27;#fec44fff&#x27;, &#x27;#fec44fff&#x27;, &#x27;#fec44fff&#x27;, &#x27;#fec44fff&#x27;, &#x27;#fec44fff&#x27;, &#x27;#fec44fff&#x27;, &#x27;#fec44fff&#x27;, &#x27;#fec44fff&#x27;, &#x27;#fec44fff&#x27;, &#x27;#fec44fff&#x27;, &#x27;#fec44fff&#x27;, &#x27;#fec44fff&#x27;, &#x27;#fec44fff&#x27;, &#x27;#fec44fff&#x27;, &#x27;#fec44fff&#x27;, &#x27;#fec44fff&#x27;, &#x27;#fec44fff&#x27;, &#x27;#fec44fff&#x27;, &#x27;#fec44fff&#x27;, &#x27;#fec44fff&#x27;, &#x27;#fec44fff&#x27;, &#x27;#fec44fff&#x27;, &#x27;#fec44fff&#x27;, &#x27;#fec44fff&#x27;, &#x27;#fec44fff&#x27;, &#x27;#fec44fff&#x27;, &#x27;#fec44fff&#x27;, &#x27;#fec44fff&#x27;, &#x27;#fec44fff&#x27;, &#x27;#fec44fff&#x27;, &#x27;#fec44fff&#x27;, &#x27;#fec44fff&#x27;, &#x27;#fec44fff&#x27;, &#x27;#fec44fff&#x27;, &#x27;#fec44fff&#x27;, &#x27;#fec44fff&#x27;, &#x27;#fec44fff&#x27;, &#x27;#fec44fff&#x27;, &#x27;#fec44fff&#x27;, &#x27;#fec44fff&#x27;, &#x27;#fec44fff&#x27;, &#x27;#fec44fff&#x27;, &#x27;#fec44fff&#x27;, &#x27;#fec44fff&#x27;, &#x27;#fec44fff&#x27;, &#x27;#fec44fff&#x27;, &#x27;#fec44fff&#x27;, &#x27;#fec44fff&#x27;, &#x27;#fec44fff&#x27;, &#x27;#fec44fff&#x27;, &#x27;#fec44fff&#x27;, &#x27;#fec44fff&#x27;, &#x27;#fec44fff&#x27;, &#x27;#fec44fff&#x27;, &#x27;#fec44fff&#x27;, &#x27;#fec44fff&#x27;, &#x27;#fec44fff&#x27;, &#x27;#fec44fff&#x27;, &#x27;#fec44fff&#x27;, &#x27;#fec44fff&#x27;, &#x27;#fec44fff&#x27;, &#x27;#fec44fff&#x27;, &#x27;#fec44fff&#x27;, &#x27;#fec44fff&#x27;, &#x27;#fec44fff&#x27;, &#x27;#fec44fff&#x27;, &#x27;#fec44fff&#x27;, &#x27;#fec44fff&#x27;, &#x27;#fec44fff&#x27;, &#x27;#fec44fff&#x27;, &#x27;#fec44fff&#x27;, &#x27;#fec44fff&#x27;, &#x27;#fec44fff&#x27;, &#x27;#fec44fff&#x27;, &#x27;#fec44fff&#x27;, &#x27;#fec44fff&#x27;, &#x27;#fec44fff&#x27;, &#x27;#fec44fff&#x27;, &#x27;#fec44fff&#x27;, &#x27;#fec44fff&#x27;, &#x27;#fec44fff&#x27;, &#x27;#fec44fff&#x27;, &#x27;#fe9929ff&#x27;, &#x27;#fe9929ff&#x27;, &#x27;#fe9929ff&#x27;, &#x27;#fe9929ff&#x27;, &#x27;#fe9929ff&#x27;, &#x27;#fe9929ff&#x27;, &#x27;#fe9929ff&#x27;, &#x27;#fe9929ff&#x27;, &#x27;#fe9929ff&#x27;, &#x27;#fe9929ff&#x27;, &#x27;#fe9929ff&#x27;, &#x27;#fe9929ff&#x27;, &#x27;#fe9929ff&#x27;, &#x27;#fe9929ff&#x27;, &#x27;#fe9929ff&#x27;, &#x27;#fe9929ff&#x27;, &#x27;#fe9929ff&#x27;, &#x27;#fe9929ff&#x27;, &#x27;#fe9929ff&#x27;, &#x27;#fe9929ff&#x27;, &#x27;#fe9929ff&#x27;, &#x27;#fe9929ff&#x27;, &#x27;#fe9929ff&#x27;, &#x27;#fe9929ff&#x27;, &#x27;#fe9929ff&#x27;, &#x27;#fe9929ff&#x27;, &#x27;#fe9929ff&#x27;, &#x27;#fe9929ff&#x27;, &#x27;#fe9929ff&#x27;, &#x27;#fe9929ff&#x27;, &#x27;#fe9929ff&#x27;, &#x27;#fe9929ff&#x27;, &#x27;#fe9929ff&#x27;, &#x27;#fe9929ff&#x27;, &#x27;#fe9929ff&#x27;, &#x27;#fe9929ff&#x27;, &#x27;#fe9929ff&#x27;, &#x27;#fe9929ff&#x27;, &#x27;#fe9929ff&#x27;, &#x27;#fe9929ff&#x27;, &#x27;#fe9929ff&#x27;, &#x27;#fe9929ff&#x27;, &#x27;#fe9929ff&#x27;, &#x27;#fe9929ff&#x27;, &#x27;#fe9929ff&#x27;, &#x27;#fe9929ff&#x27;, &#x27;#fe9929ff&#x27;, &#x27;#fe9929ff&#x27;, &#x27;#fe9929ff&#x27;, &#x27;#fe9929ff&#x27;, &#x27;#fe9929ff&#x27;, &#x27;#fe9929ff&#x27;, &#x27;#fe9929ff&#x27;, &#x27;#fe9929ff&#x27;, &#x27;#fe9929ff&#x27;, &#x27;#fe9929ff&#x27;, &#x27;#fe9929ff&#x27;, &#x27;#fe9929ff&#x27;, &#x27;#fe9929ff&#x27;, &#x27;#fe9929ff&#x27;, &#x27;#fe9929ff&#x27;, &#x27;#fe9929ff&#x27;, &#x27;#fe9929ff&#x27;, &#x27;#fe9929ff&#x27;, &#x27;#fe9929ff&#x27;, &#x27;#fe9929ff&#x27;, &#x27;#fe9929ff&#x27;, &#x27;#fe9929ff&#x27;, &#x27;#fe9929ff&#x27;, &#x27;#fe9929ff&#x27;, &#x27;#fe9929ff&#x27;, &#x27;#fe9929ff&#x27;, &#x27;#fe9929ff&#x27;, &#x27;#fe9929ff&#x27;, &#x27;#fe9929ff&#x27;, &#x27;#fe9929ff&#x27;, &#x27;#fe9929ff&#x27;, &#x27;#fe9929ff&#x27;, &#x27;#fe9929ff&#x27;, &#x27;#fe9929ff&#x27;, &#x27;#fe9929ff&#x27;, &#x27;#fe9929ff&#x27;, &#x27;#fe9929ff&#x27;, &#x27;#d95f0eff&#x27;, &#x27;#d95f0eff&#x27;, &#x27;#d95f0eff&#x27;, &#x27;#d95f0eff&#x27;, &#x27;#d95f0eff&#x27;, &#x27;#d95f0eff&#x27;, &#x27;#d95f0eff&#x27;, &#x27;#d95f0eff&#x27;, &#x27;#d95f0eff&#x27;, &#x27;#d95f0eff&#x27;, &#x27;#d95f0eff&#x27;, &#x27;#d95f0eff&#x27;, &#x27;#d95f0eff&#x27;, &#x27;#d95f0eff&#x27;, &#x27;#d95f0eff&#x27;, &#x27;#d95f0eff&#x27;, &#x27;#d95f0eff&#x27;, &#x27;#d95f0eff&#x27;, &#x27;#d95f0eff&#x27;, &#x27;#d95f0eff&#x27;, &#x27;#d95f0eff&#x27;, &#x27;#d95f0eff&#x27;, &#x27;#d95f0eff&#x27;, &#x27;#d95f0eff&#x27;, &#x27;#d95f0eff&#x27;, &#x27;#d95f0eff&#x27;, &#x27;#d95f0eff&#x27;, &#x27;#d95f0eff&#x27;, &#x27;#d95f0eff&#x27;, &#x27;#d95f0eff&#x27;, &#x27;#d95f0eff&#x27;, &#x27;#d95f0eff&#x27;, &#x27;#d95f0eff&#x27;, &#x27;#d95f0eff&#x27;, &#x27;#d95f0eff&#x27;, &#x27;#d95f0eff&#x27;, &#x27;#d95f0eff&#x27;, &#x27;#d95f0eff&#x27;, &#x27;#d95f0eff&#x27;, &#x27;#d95f0eff&#x27;, &#x27;#d95f0eff&#x27;, &#x27;#d95f0eff&#x27;, &#x27;#d95f0eff&#x27;, &#x27;#d95f0eff&#x27;, &#x27;#d95f0eff&#x27;, &#x27;#d95f0eff&#x27;, &#x27;#d95f0eff&#x27;, &#x27;#d95f0eff&#x27;, &#x27;#d95f0eff&#x27;, &#x27;#d95f0eff&#x27;, &#x27;#d95f0eff&#x27;, &#x27;#d95f0eff&#x27;, &#x27;#d95f0eff&#x27;, &#x27;#d95f0eff&#x27;, &#x27;#d95f0eff&#x27;, &#x27;#d95f0eff&#x27;, &#x27;#d95f0eff&#x27;, &#x27;#d95f0eff&#x27;, &#x27;#d95f0eff&#x27;, &#x27;#d95f0eff&#x27;, &#x27;#d95f0eff&#x27;, &#x27;#d95f0eff&#x27;, &#x27;#d95f0eff&#x27;, &#x27;#d95f0eff&#x27;, &#x27;#d95f0eff&#x27;, &#x27;#d95f0eff&#x27;, &#x27;#d95f0eff&#x27;, &#x27;#d95f0eff&#x27;, &#x27;#d95f0eff&#x27;, &#x27;#d95f0eff&#x27;, &#x27;#d95f0eff&#x27;, &#x27;#d95f0eff&#x27;, &#x27;#d95f0eff&#x27;, &#x27;#d95f0eff&#x27;, &#x27;#d95f0eff&#x27;, &#x27;#d95f0eff&#x27;, &#x27;#d95f0eff&#x27;, &#x27;#d95f0eff&#x27;, &#x27;#d95f0eff&#x27;, &#x27;#d95f0eff&#x27;, &#x27;#d95f0eff&#x27;, &#x27;#d95f0eff&#x27;, &#x27;#d95f0eff&#x27;, &#x27;#993404ff&#x27;, &#x27;#993404ff&#x27;, &#x27;#993404ff&#x27;, &#x27;#993404ff&#x27;, &#x27;#993404ff&#x27;, &#x27;#993404ff&#x27;, &#x27;#993404ff&#x27;, &#x27;#993404ff&#x27;, &#x27;#993404ff&#x27;, &#x27;#993404ff&#x27;, &#x27;#993404ff&#x27;, &#x27;#993404ff&#x27;, &#x27;#993404ff&#x27;, &#x27;#993404ff&#x27;, &#x27;#993404ff&#x27;, &#x27;#993404ff&#x27;, &#x27;#993404ff&#x27;, &#x27;#993404ff&#x27;, &#x27;#993404ff&#x27;, &#x27;#993404ff&#x27;, &#x27;#993404ff&#x27;, &#x27;#993404ff&#x27;, &#x27;#993404ff&#x27;, &#x27;#993404ff&#x27;, &#x27;#993404ff&#x27;, &#x27;#993404ff&#x27;, &#x27;#993404ff&#x27;, &#x27;#993404ff&#x27;, &#x27;#993404ff&#x27;, &#x27;#993404ff&#x27;, &#x27;#993404ff&#x27;, &#x27;#993404ff&#x27;, &#x27;#993404ff&#x27;, &#x27;#993404ff&#x27;, &#x27;#993404ff&#x27;, &#x27;#993404ff&#x27;, &#x27;#993404ff&#x27;, &#x27;#993404ff&#x27;, &#x27;#993404ff&#x27;, &#x27;#993404ff&#x27;, &#x27;#993404ff&#x27;, &#x27;#993404ff&#x27;, &#x27;#993404ff&#x27;, &#x27;#993404ff&#x27;, &#x27;#993404ff&#x27;, &#x27;#993404ff&#x27;, &#x27;#993404ff&#x27;, &#x27;#993404ff&#x27;, &#x27;#993404ff&#x27;, &#x27;#993404ff&#x27;, &#x27;#993404ff&#x27;, &#x27;#993404ff&#x27;, &#x27;#993404ff&#x27;, &#x27;#993404ff&#x27;, &#x27;#993404ff&#x27;, &#x27;#993404ff&#x27;, &#x27;#993404ff&#x27;, &#x27;#993404ff&#x27;, &#x27;#993404ff&#x27;, &#x27;#993404ff&#x27;, &#x27;#993404ff&#x27;, &#x27;#993404ff&#x27;, &#x27;#993404ff&#x27;, &#x27;#993404ff&#x27;, &#x27;#993404ff&#x27;, &#x27;#993404ff&#x27;, &#x27;#993404ff&#x27;, &#x27;#993404ff&#x27;, &#x27;#993404ff&#x27;, &#x27;#993404ff&#x27;, &#x27;#993404ff&#x27;, &#x27;#993404ff&#x27;, &#x27;#993404ff&#x27;, &#x27;#993404ff&#x27;, &#x27;#993404ff&#x27;, &#x27;#993404ff&#x27;, &#x27;#993404ff&#x27;, &#x27;#993404ff&#x27;, &#x27;#993404ff&#x27;, &#x27;#993404ff&#x27;, &#x27;#993404ff&#x27;, &#x27;#993404ff&#x27;, &#x27;#993404ff&#x27;, &#x27;#993404ff&#x27;]);\n",
       "    \n",
       "\n",
       "    color_map_4e5bfef32cc5b41968a6d190f70d4aff.x = d3.scale.linear()\n",
       "              .domain([29.17350309, 33.35598901])\n",
       "              .range([0, 450 - 50]);\n",
       "\n",
       "    color_map_4e5bfef32cc5b41968a6d190f70d4aff.legend = L.control({position: &#x27;topright&#x27;});\n",
       "    color_map_4e5bfef32cc5b41968a6d190f70d4aff.legend.onAdd = function (map) {var div = L.DomUtil.create(&#x27;div&#x27;, &#x27;legend&#x27;); return div};\n",
       "    color_map_4e5bfef32cc5b41968a6d190f70d4aff.legend.addTo(map_dc10c9194190877454c794944df8b849);\n",
       "\n",
       "    color_map_4e5bfef32cc5b41968a6d190f70d4aff.xAxis = d3.svg.axis()\n",
       "        .scale(color_map_4e5bfef32cc5b41968a6d190f70d4aff.x)\n",
       "        .orient(&quot;top&quot;)\n",
       "        .tickSize(1)\n",
       "        .tickValues([29.17350309, 29.870584076666667, 30.567665063333333, 31.26474605, 31.96182703666667, 32.65890802333333, 33.35598901]);\n",
       "\n",
       "    color_map_4e5bfef32cc5b41968a6d190f70d4aff.svg = d3.select(&quot;.legend.leaflet-control&quot;).append(&quot;svg&quot;)\n",
       "        .attr(&quot;id&quot;, &#x27;legend&#x27;)\n",
       "        .attr(&quot;width&quot;, 450)\n",
       "        .attr(&quot;height&quot;, 40);\n",
       "\n",
       "    color_map_4e5bfef32cc5b41968a6d190f70d4aff.g = color_map_4e5bfef32cc5b41968a6d190f70d4aff.svg.append(&quot;g&quot;)\n",
       "        .attr(&quot;class&quot;, &quot;key&quot;)\n",
       "        .attr(&quot;transform&quot;, &quot;translate(25,16)&quot;);\n",
       "\n",
       "    color_map_4e5bfef32cc5b41968a6d190f70d4aff.g.selectAll(&quot;rect&quot;)\n",
       "        .data(color_map_4e5bfef32cc5b41968a6d190f70d4aff.color.range().map(function(d, i) {\n",
       "          return {\n",
       "            x0: i ? color_map_4e5bfef32cc5b41968a6d190f70d4aff.x(color_map_4e5bfef32cc5b41968a6d190f70d4aff.color.domain()[i - 1]) : color_map_4e5bfef32cc5b41968a6d190f70d4aff.x.range()[0],\n",
       "            x1: i &lt; color_map_4e5bfef32cc5b41968a6d190f70d4aff.color.domain().length ? color_map_4e5bfef32cc5b41968a6d190f70d4aff.x(color_map_4e5bfef32cc5b41968a6d190f70d4aff.color.domain()[i]) : color_map_4e5bfef32cc5b41968a6d190f70d4aff.x.range()[1],\n",
       "            z: d\n",
       "          };\n",
       "        }))\n",
       "      .enter().append(&quot;rect&quot;)\n",
       "        .attr(&quot;height&quot;, 40 - 30)\n",
       "        .attr(&quot;x&quot;, function(d) { return d.x0; })\n",
       "        .attr(&quot;width&quot;, function(d) { return d.x1 - d.x0; })\n",
       "        .style(&quot;fill&quot;, function(d) { return d.z; });\n",
       "\n",
       "    color_map_4e5bfef32cc5b41968a6d190f70d4aff.g.call(color_map_4e5bfef32cc5b41968a6d190f70d4aff.xAxis).append(&quot;text&quot;)\n",
       "        .attr(&quot;class&quot;, &quot;caption&quot;)\n",
       "        .attr(&quot;y&quot;, 21)\n",
       "        .text(&quot;BMI\\u0027s per region&quot;);\n",
       "    \n",
       "            var layer_control_151086cbc683265a11aa432a9725d669 = {\n",
       "                base_layers : {\n",
       "                    &quot;openstreetmap&quot; : tile_layer_a2d7597373af456227600b014f01b96a,\n",
       "                },\n",
       "                overlays :  {\n",
       "                    &quot;macro_element_028c2b3465861de0d9449a0bdfefa0cf&quot; : choropleth_028c2b3465861de0d9449a0bdfefa0cf,\n",
       "                },\n",
       "            };\n",
       "            L.control.layers(\n",
       "                layer_control_151086cbc683265a11aa432a9725d669.base_layers,\n",
       "                layer_control_151086cbc683265a11aa432a9725d669.overlays,\n",
       "                {&quot;autoZIndex&quot;: true, &quot;collapsed&quot;: true, &quot;position&quot;: &quot;topright&quot;}\n",
       "            ).addTo(map_dc10c9194190877454c794944df8b849);\n",
       "        \n",
       "&lt;/script&gt;\n",
       "&lt;/html&gt;\" style=\"position:absolute;width:100%;height:100%;left:0;top:0;border:none !important;\" allowfullscreen webkitallowfullscreen mozallowfullscreen></iframe></div></div>"
      ],
      "text/plain": [
       "<folium.folium.Map at 0x17d3aed97f0>"
      ]
     },
     "execution_count": 108,
     "metadata": {},
     "output_type": "execute_result"
    }
   ],
   "source": [
    "# Setting up a map\n",
    "map = folium.Map(location = [100, 0], zoom_start = 1.5)\n",
    "\n",
    "folium.Choropleth(\n",
    "    geo_data = country_geo, \n",
    "    data = data_to_plot,\n",
    "    columns = ['Region','BMI Average'],\n",
    "    key_on = 'feature.properties.name', \n",
    "    fill_color = 'YlOrBr', fill_opacity=0.6, line_opacity=0.1,\n",
    "    legend_name = \"BMI's per region\").add_to(map)\n",
    "\n",
    "folium.LayerControl().add_to(map)\n",
    "\n",
    "map"
   ]
  },
  {
   "cell_type": "markdown",
   "id": "66b6161e",
   "metadata": {},
   "source": []
  },
  {
   "cell_type": "code",
   "execution_count": null,
   "id": "8a87a1cb",
   "metadata": {},
   "outputs": [],
   "source": []
  }
 ],
 "metadata": {
  "kernelspec": {
   "display_name": "Python 3 (ipykernel)",
   "language": "python",
   "name": "python3"
  },
  "language_info": {
   "codemirror_mode": {
    "name": "ipython",
    "version": 3
   },
   "file_extension": ".py",
   "mimetype": "text/x-python",
   "name": "python",
   "nbconvert_exporter": "python",
   "pygments_lexer": "ipython3",
   "version": "3.9.13"
  }
 },
 "nbformat": 4,
 "nbformat_minor": 5
}
