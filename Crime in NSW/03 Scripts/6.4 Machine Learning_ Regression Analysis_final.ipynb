{
 "cells": [
  {
   "cell_type": "markdown",
   "id": "a88ce744",
   "metadata": {},
   "source": [
    "## 6.4 Machine Learning Part 1"
   ]
  },
  {
   "cell_type": "markdown",
   "id": "d4673bfe",
   "metadata": {},
   "source": [
    "### This script contains the following:\n",
    "\n",
    "#### 1. Importing libraries and data\n",
    "#### 2. Data cleaning\n",
    "#### 3. Data prep for regression analysis\n",
    "#### 4. Regression analysis\n",
    "#### Bonus: performance improvement after removing outliers"
   ]
  },
  {
   "cell_type": "markdown",
   "id": "cb74b7cf",
   "metadata": {},
   "source": [
    "## Hypothesis"
   ]
  },
  {
   "cell_type": "markdown",
   "id": "be594956",
   "metadata": {},
   "source": [
    "The hypothesis that I will be testing in this task is that crime has reduced over time in New South Wales. "
   ]
  },
  {
   "cell_type": "markdown",
   "id": "30a7cd32",
   "metadata": {},
   "source": [
    "### 1. Importing libraries and data"
   ]
  },
  {
   "cell_type": "code",
   "execution_count": 37,
   "id": "3614461a",
   "metadata": {},
   "outputs": [],
   "source": [
    "import pandas as pd\n",
    "import numpy as np\n",
    "import seaborn as sns\n",
    "import matplotlib\n",
    "import matplotlib.pyplot as plt\n",
    "import os\n",
    "import sklearn\n",
    "from sklearn.model_selection import train_test_split \n",
    "from sklearn.linear_model import LinearRegression\n",
    "from sklearn.metrics import mean_squared_error, r2_score"
   ]
  },
  {
   "cell_type": "code",
   "execution_count": 38,
   "id": "27b4ff8d",
   "metadata": {},
   "outputs": [],
   "source": [
    "# This option ensures that the graphs you create are displayed within the notebook without the need to \"call\" them specifically.\n",
    "\n",
    "%matplotlib inline"
   ]
  },
  {
   "cell_type": "code",
   "execution_count": 213,
   "id": "ec5b4cd8",
   "metadata": {},
   "outputs": [],
   "source": [
    "# Import data\n",
    "\n",
    "#Importing data set RCI_offencebymonth.csv\n",
    "df = pd.read_csv(r'C:\\Users\\Sarah\\Desktop\\Data Course\\Task 6\\02 Data\\Original Data\\Data for 6.4 - Sheet12.csv', index_col = False)"
   ]
  },
  {
   "cell_type": "markdown",
   "id": "28d632df",
   "metadata": {},
   "source": [
    "### 2. Data cleaning"
   ]
  },
  {
   "cell_type": "code",
   "execution_count": 214,
   "id": "349d00c3",
   "metadata": {},
   "outputs": [
    {
     "data": {
      "text/plain": [
       "LGA                            object\n",
       "Offence category               object\n",
       "Subcategory                    object\n",
       "Total                           int64\n",
       "Median Family Income Weekly     int64\n",
       "dtype: object"
      ]
     },
     "execution_count": 214,
     "metadata": {},
     "output_type": "execute_result"
    }
   ],
   "source": [
    "#Checking column types\n",
    "df.dtypes"
   ]
  },
  {
   "cell_type": "code",
   "execution_count": 216,
   "id": "42760ece",
   "metadata": {},
   "outputs": [
    {
     "data": {
      "text/plain": [
       "Index(['LGA', 'Offence category', 'Subcategory', 'Total',\n",
       "       'Median Family Income Weekly'],\n",
       "      dtype='object')"
      ]
     },
     "execution_count": 216,
     "metadata": {},
     "output_type": "execute_result"
    }
   ],
   "source": [
    "df.columns"
   ]
  },
  {
   "cell_type": "code",
   "execution_count": 217,
   "id": "2add8466",
   "metadata": {
    "scrolled": true
   },
   "outputs": [
    {
     "data": {
      "text/html": [
       "<div>\n",
       "<style scoped>\n",
       "    .dataframe tbody tr th:only-of-type {\n",
       "        vertical-align: middle;\n",
       "    }\n",
       "\n",
       "    .dataframe tbody tr th {\n",
       "        vertical-align: top;\n",
       "    }\n",
       "\n",
       "    .dataframe thead th {\n",
       "        text-align: right;\n",
       "    }\n",
       "</style>\n",
       "<table border=\"1\" class=\"dataframe\">\n",
       "  <thead>\n",
       "    <tr style=\"text-align: right;\">\n",
       "      <th></th>\n",
       "      <th>LGA</th>\n",
       "      <th>Offence category</th>\n",
       "      <th>Subcategory</th>\n",
       "      <th>Total</th>\n",
       "      <th>Median Family Income Weekly</th>\n",
       "    </tr>\n",
       "  </thead>\n",
       "  <tbody>\n",
       "    <tr>\n",
       "      <th>0</th>\n",
       "      <td>Albury</td>\n",
       "      <td>Homicide</td>\n",
       "      <td>Murder *</td>\n",
       "      <td>21</td>\n",
       "      <td>1025</td>\n",
       "    </tr>\n",
       "    <tr>\n",
       "      <th>1</th>\n",
       "      <td>Albury</td>\n",
       "      <td>Homicide</td>\n",
       "      <td>Attempted murder</td>\n",
       "      <td>11</td>\n",
       "      <td>1025</td>\n",
       "    </tr>\n",
       "    <tr>\n",
       "      <th>2</th>\n",
       "      <td>Albury</td>\n",
       "      <td>Homicide</td>\n",
       "      <td>Murder accessory, conspiracy</td>\n",
       "      <td>0</td>\n",
       "      <td>1025</td>\n",
       "    </tr>\n",
       "    <tr>\n",
       "      <th>3</th>\n",
       "      <td>Albury</td>\n",
       "      <td>Homicide</td>\n",
       "      <td>Manslaughter *</td>\n",
       "      <td>5</td>\n",
       "      <td>1025</td>\n",
       "    </tr>\n",
       "    <tr>\n",
       "      <th>4</th>\n",
       "      <td>Albury</td>\n",
       "      <td>Assault</td>\n",
       "      <td>Domestic violence related assault</td>\n",
       "      <td>6672</td>\n",
       "      <td>1025</td>\n",
       "    </tr>\n",
       "    <tr>\n",
       "      <th>5</th>\n",
       "      <td>Albury</td>\n",
       "      <td>Assault</td>\n",
       "      <td>Non-domestic violence related assault</td>\n",
       "      <td>10026</td>\n",
       "      <td>1025</td>\n",
       "    </tr>\n",
       "    <tr>\n",
       "      <th>6</th>\n",
       "      <td>Albury</td>\n",
       "      <td>Assault</td>\n",
       "      <td>Assault Police</td>\n",
       "      <td>886</td>\n",
       "      <td>1025</td>\n",
       "    </tr>\n",
       "    <tr>\n",
       "      <th>7</th>\n",
       "      <td>Albury</td>\n",
       "      <td>Sexual offences</td>\n",
       "      <td>Sexual assault</td>\n",
       "      <td>1403</td>\n",
       "      <td>1025</td>\n",
       "    </tr>\n",
       "    <tr>\n",
       "      <th>8</th>\n",
       "      <td>Albury</td>\n",
       "      <td>Sexual offences</td>\n",
       "      <td>Sexual touching, sexual act and other sexual o...</td>\n",
       "      <td>1669</td>\n",
       "      <td>1025</td>\n",
       "    </tr>\n",
       "    <tr>\n",
       "      <th>9</th>\n",
       "      <td>Albury</td>\n",
       "      <td>Abduction and kidnapping</td>\n",
       "      <td>Abduction and kidnapping</td>\n",
       "      <td>69</td>\n",
       "      <td>1025</td>\n",
       "    </tr>\n",
       "    <tr>\n",
       "      <th>10</th>\n",
       "      <td>Albury</td>\n",
       "      <td>Robbery</td>\n",
       "      <td>Robbery without a weapon</td>\n",
       "      <td>358</td>\n",
       "      <td>1025</td>\n",
       "    </tr>\n",
       "    <tr>\n",
       "      <th>11</th>\n",
       "      <td>Albury</td>\n",
       "      <td>Robbery</td>\n",
       "      <td>Robbery with a firearm</td>\n",
       "      <td>27</td>\n",
       "      <td>1025</td>\n",
       "    </tr>\n",
       "    <tr>\n",
       "      <th>12</th>\n",
       "      <td>Albury</td>\n",
       "      <td>Robbery</td>\n",
       "      <td>Robbery with a weapon not a firearm</td>\n",
       "      <td>173</td>\n",
       "      <td>1025</td>\n",
       "    </tr>\n",
       "    <tr>\n",
       "      <th>13</th>\n",
       "      <td>Albury</td>\n",
       "      <td>Blackmail and extortion</td>\n",
       "      <td>Blackmail and extortion</td>\n",
       "      <td>4</td>\n",
       "      <td>1025</td>\n",
       "    </tr>\n",
       "    <tr>\n",
       "      <th>14</th>\n",
       "      <td>Albury</td>\n",
       "      <td>Intimidation, stalking and harassment</td>\n",
       "      <td>Intimidation, stalking and harassment</td>\n",
       "      <td>6533</td>\n",
       "      <td>1025</td>\n",
       "    </tr>\n",
       "    <tr>\n",
       "      <th>15</th>\n",
       "      <td>Albury</td>\n",
       "      <td>Other offences against the person</td>\n",
       "      <td>Other offences against the person</td>\n",
       "      <td>299</td>\n",
       "      <td>1025</td>\n",
       "    </tr>\n",
       "    <tr>\n",
       "      <th>16</th>\n",
       "      <td>Albury</td>\n",
       "      <td>Theft</td>\n",
       "      <td>Break and enter dwelling</td>\n",
       "      <td>12259</td>\n",
       "      <td>1025</td>\n",
       "    </tr>\n",
       "    <tr>\n",
       "      <th>17</th>\n",
       "      <td>Albury</td>\n",
       "      <td>Theft</td>\n",
       "      <td>Break and enter non-dwelling</td>\n",
       "      <td>8355</td>\n",
       "      <td>1025</td>\n",
       "    </tr>\n",
       "    <tr>\n",
       "      <th>18</th>\n",
       "      <td>Albury</td>\n",
       "      <td>Theft</td>\n",
       "      <td>Receiving or handling stolen goods</td>\n",
       "      <td>2192</td>\n",
       "      <td>1025</td>\n",
       "    </tr>\n",
       "    <tr>\n",
       "      <th>19</th>\n",
       "      <td>Albury</td>\n",
       "      <td>Theft</td>\n",
       "      <td>Motor vehicle theft</td>\n",
       "      <td>5055</td>\n",
       "      <td>1025</td>\n",
       "    </tr>\n",
       "  </tbody>\n",
       "</table>\n",
       "</div>"
      ],
      "text/plain": [
       "       LGA                       Offence category  \\\n",
       "0   Albury                               Homicide   \n",
       "1   Albury                               Homicide   \n",
       "2   Albury                               Homicide   \n",
       "3   Albury                               Homicide   \n",
       "4   Albury                                Assault   \n",
       "5   Albury                                Assault   \n",
       "6   Albury                                Assault   \n",
       "7   Albury                        Sexual offences   \n",
       "8   Albury                        Sexual offences   \n",
       "9   Albury               Abduction and kidnapping   \n",
       "10  Albury                                Robbery   \n",
       "11  Albury                                Robbery   \n",
       "12  Albury                                Robbery   \n",
       "13  Albury                Blackmail and extortion   \n",
       "14  Albury  Intimidation, stalking and harassment   \n",
       "15  Albury      Other offences against the person   \n",
       "16  Albury                                  Theft   \n",
       "17  Albury                                  Theft   \n",
       "18  Albury                                  Theft   \n",
       "19  Albury                                  Theft   \n",
       "\n",
       "                                          Subcategory  Total  \\\n",
       "0                                            Murder *     21   \n",
       "1                                    Attempted murder     11   \n",
       "2                        Murder accessory, conspiracy      0   \n",
       "3                                      Manslaughter *      5   \n",
       "4                   Domestic violence related assault   6672   \n",
       "5               Non-domestic violence related assault  10026   \n",
       "6                                      Assault Police    886   \n",
       "7                                      Sexual assault   1403   \n",
       "8   Sexual touching, sexual act and other sexual o...   1669   \n",
       "9                            Abduction and kidnapping     69   \n",
       "10                           Robbery without a weapon    358   \n",
       "11                             Robbery with a firearm     27   \n",
       "12                Robbery with a weapon not a firearm    173   \n",
       "13                            Blackmail and extortion      4   \n",
       "14              Intimidation, stalking and harassment   6533   \n",
       "15                  Other offences against the person    299   \n",
       "16                           Break and enter dwelling  12259   \n",
       "17                       Break and enter non-dwelling   8355   \n",
       "18                 Receiving or handling stolen goods   2192   \n",
       "19                                Motor vehicle theft   5055   \n",
       "\n",
       "    Median Family Income Weekly  \n",
       "0                          1025  \n",
       "1                          1025  \n",
       "2                          1025  \n",
       "3                          1025  \n",
       "4                          1025  \n",
       "5                          1025  \n",
       "6                          1025  \n",
       "7                          1025  \n",
       "8                          1025  \n",
       "9                          1025  \n",
       "10                         1025  \n",
       "11                         1025  \n",
       "12                         1025  \n",
       "13                         1025  \n",
       "14                         1025  \n",
       "15                         1025  \n",
       "16                         1025  \n",
       "17                         1025  \n",
       "18                         1025  \n",
       "19                         1025  "
      ]
     },
     "execution_count": 217,
     "metadata": {},
     "output_type": "execute_result"
    }
   ],
   "source": [
    "df.head(20)"
   ]
  },
  {
   "cell_type": "code",
   "execution_count": 218,
   "id": "f1fccc5d",
   "metadata": {},
   "outputs": [],
   "source": [
    "# Rename the columns in the same way as in Exercise 6.2.\n",
    "\n",
    "df.rename(columns = {'LGA' : 'Local Government Area', 'Subcategory': 'Crime', 'Total': 'Total Crime' }, inplace = True)"
   ]
  },
  {
   "cell_type": "code",
   "execution_count": 219,
   "id": "93a14708",
   "metadata": {},
   "outputs": [
    {
     "data": {
      "text/plain": [
       "(8122, 5)"
      ]
     },
     "execution_count": 219,
     "metadata": {},
     "output_type": "execute_result"
    }
   ],
   "source": [
    "df.shape"
   ]
  },
  {
   "cell_type": "code",
   "execution_count": 220,
   "id": "5595da3c",
   "metadata": {},
   "outputs": [
    {
     "data": {
      "text/plain": [
       "Index(['Local Government Area', 'Offence category', 'Crime', 'Total Crime',\n",
       "       'Median Family Income Weekly'],\n",
       "      dtype='object')"
      ]
     },
     "execution_count": 220,
     "metadata": {},
     "output_type": "execute_result"
    }
   ],
   "source": [
    "df.columns"
   ]
  },
  {
   "cell_type": "markdown",
   "id": "1eb2d051",
   "metadata": {},
   "source": [
    "##### Missing values"
   ]
  },
  {
   "cell_type": "code",
   "execution_count": 221,
   "id": "bad816d7",
   "metadata": {},
   "outputs": [
    {
     "data": {
      "text/plain": [
       "Local Government Area          0\n",
       "Offence category               0\n",
       "Crime                          0\n",
       "Total Crime                    0\n",
       "Median Family Income Weekly    0\n",
       "dtype: int64"
      ]
     },
     "execution_count": 221,
     "metadata": {},
     "output_type": "execute_result"
    }
   ],
   "source": [
    "# Check for missing values\n",
    "\n",
    "df.isnull().sum()\n",
    "\n",
    "# No missing values to handle"
   ]
  },
  {
   "cell_type": "markdown",
   "id": "4a586299",
   "metadata": {},
   "source": [
    "##### Duplicates check"
   ]
  },
  {
   "cell_type": "code",
   "execution_count": 222,
   "id": "3e703e94",
   "metadata": {},
   "outputs": [],
   "source": [
    "dups = df.duplicated()"
   ]
  },
  {
   "cell_type": "code",
   "execution_count": 223,
   "id": "79e08a18",
   "metadata": {},
   "outputs": [
    {
     "data": {
      "text/plain": [
       "(8122,)"
      ]
     },
     "execution_count": 223,
     "metadata": {},
     "output_type": "execute_result"
    }
   ],
   "source": [
    "dups.shape # No dups"
   ]
  },
  {
   "cell_type": "markdown",
   "id": "399fb5a6",
   "metadata": {},
   "source": [
    "#### Extreme values checks"
   ]
  },
  {
   "cell_type": "code",
   "execution_count": 224,
   "id": "084c0b6b",
   "metadata": {},
   "outputs": [
    {
     "data": {
      "text/plain": [
       "<seaborn.axisgrid.FacetGrid at 0x2553846ed30>"
      ]
     },
     "execution_count": 224,
     "metadata": {},
     "output_type": "execute_result"
    },
    {
     "data": {
      "image/png": "[encoded data removed]",
      "text/plain": [
       "<Figure size 500x500 with 1 Axes>"
      ]
     },
     "metadata": {},
     "output_type": "display_data"
    }
   ],
   "source": [
    "# Check for extreme values\n",
    "sns.displot(df['Total Crime'],bins = 25, kde = True)"
   ]
  },
  {
   "cell_type": "markdown",
   "id": "a87335c3",
   "metadata": {},
   "source": [
    "Note: Although there are clearly lots of lower numbers, I am going to leave them in the data because it is part of the crime data."
   ]
  },
  {
   "cell_type": "code",
   "execution_count": 225,
   "id": "8f52c6b8",
   "metadata": {},
   "outputs": [
    {
     "data": {
      "text/plain": [
       "2332.6894853484364"
      ]
     },
     "execution_count": 225,
     "metadata": {},
     "output_type": "execute_result"
    }
   ],
   "source": [
    "# Check the mean\n",
    "df['Total Crime'].mean() "
   ]
  },
  {
   "cell_type": "code",
   "execution_count": 226,
   "id": "07a13d1c",
   "metadata": {},
   "outputs": [
    {
     "data": {
      "text/plain": [
       "212.5"
      ]
     },
     "execution_count": 226,
     "metadata": {},
     "output_type": "execute_result"
    }
   ],
   "source": [
    "# Check the median\n",
    "df['Total Crime'].median()"
   ]
  },
  {
   "cell_type": "code",
   "execution_count": 227,
   "id": "c71872ca",
   "metadata": {},
   "outputs": [
    {
     "data": {
      "text/plain": [
       "181879"
      ]
     },
     "execution_count": 227,
     "metadata": {},
     "output_type": "execute_result"
    }
   ],
   "source": [
    "# Check the max\n",
    "df['Total Crime'].max()"
   ]
  },
  {
   "cell_type": "code",
   "execution_count": 228,
   "id": "c256fae1",
   "metadata": {},
   "outputs": [
    {
     "data": {
      "text/plain": [
       "0"
      ]
     },
     "execution_count": 228,
     "metadata": {},
     "output_type": "execute_result"
    }
   ],
   "source": [
    "# Check the min\n",
    "df['Total Crime'].min()"
   ]
  },
  {
   "cell_type": "markdown",
   "id": "3042a97e",
   "metadata": {},
   "source": [
    "### 3. Data prep for regression analysis "
   ]
  },
  {
   "cell_type": "code",
   "execution_count": 230,
   "id": "c6a996cf",
   "metadata": {
    "scrolled": true
   },
   "outputs": [
    {
     "data": {
      "image/png": "[encoded data removed]",
      "text/plain": [
       "<Figure size 640x480 with 1 Axes>"
      ]
     },
     "metadata": {},
     "output_type": "display_data"
    }
   ],
   "source": [
    "# Create a scatterplot using matplotlib for another look at how the chosen variables plot against each other.\n",
    "\n",
    "df.plot(x = 'Total Crime', y='Median Family Income Weekly',style='o') # The style option creates a scatterplot; without it, we only have lines.\n",
    "plt.title('Total Crime vs Median Family Income Weekly')  \n",
    "plt.xlabel('Total Crime')  \n",
    "plt.ylabel('Median Family Income Weekly')  \n",
    "plt.show()"
   ]
  },
  {
   "cell_type": "code",
   "execution_count": 231,
   "id": "3b6656eb",
   "metadata": {},
   "outputs": [],
   "source": [
    "# Reshape the variables into NumPy arrays and put them into separate objects.\n",
    "\n",
    "X = df['Total Crime'].values.reshape(-1,1)\n",
    "y = df['Median Family Income Weekly'].values.reshape(-1,1)"
   ]
  },
  {
   "cell_type": "code",
   "execution_count": 232,
   "id": "6f816398",
   "metadata": {},
   "outputs": [
    {
     "data": {
      "text/plain": [
       "array([[  21],\n",
       "       [  11],\n",
       "       [   0],\n",
       "       ...,\n",
       "       [1075],\n",
       "       [   3],\n",
       "       [3037]], dtype=int64)"
      ]
     },
     "execution_count": 232,
     "metadata": {},
     "output_type": "execute_result"
    }
   ],
   "source": [
    "X"
   ]
  },
  {
   "cell_type": "code",
   "execution_count": 233,
   "id": "dc88b4a3",
   "metadata": {},
   "outputs": [
    {
     "data": {
      "text/plain": [
       "array([[1025],\n",
       "       [1025],\n",
       "       [1025],\n",
       "       ...,\n",
       "       [   0],\n",
       "       [   0],\n",
       "       [   0]], dtype=int64)"
      ]
     },
     "execution_count": 233,
     "metadata": {},
     "output_type": "execute_result"
    }
   ],
   "source": [
    "y"
   ]
  },
  {
   "cell_type": "code",
   "execution_count": 234,
   "id": "908a01c5",
   "metadata": {},
   "outputs": [],
   "source": [
    "# Split data into a training set and a test set.\n",
    "\n",
    "X_train, X_test, y_train, y_test = train_test_split(X, y, test_size=0.3, random_state=0)"
   ]
  },
  {
   "cell_type": "markdown",
   "id": "d3d7e952",
   "metadata": {},
   "source": [
    "### Hypothesis"
   ]
  },
  {
   "cell_type": "markdown",
   "id": "611aa2d6",
   "metadata": {},
   "source": [
    "The lower the median weekly family wage, the higher the crime rate."
   ]
  },
  {
   "cell_type": "markdown",
   "id": "759bad65",
   "metadata": {},
   "source": [
    "### 4. Regression analysis"
   ]
  },
  {
   "cell_type": "code",
   "execution_count": 235,
   "id": "34d36f31",
   "metadata": {},
   "outputs": [],
   "source": [
    "# Create a regression object.\n",
    "\n",
    "regression = LinearRegression()  # This is the regression object, which will be fit onto the training set."
   ]
  },
  {
   "cell_type": "code",
   "execution_count": 236,
   "id": "313b33fb",
   "metadata": {},
   "outputs": [
    {
     "data": {
      "text/plain": [
       "LinearRegression()"
      ]
     },
     "execution_count": 236,
     "metadata": {},
     "output_type": "execute_result"
    }
   ],
   "source": [
    "# Fit the regression object onto the training set.\n",
    "\n",
    "regression.fit(X_train, y_train)"
   ]
  },
  {
   "cell_type": "code",
   "execution_count": 237,
   "id": "92fdc1f9",
   "metadata": {},
   "outputs": [],
   "source": [
    "# Predict the values of y using X.\n",
    "\n",
    "y_predicted = regression.predict(X_test)"
   ]
  },
  {
   "cell_type": "code",
   "execution_count": 238,
   "id": "08c620ce",
   "metadata": {},
   "outputs": [
    {
     "data": {
      "image/png": "[encoded data removed]",
      "text/plain": [
       "<Figure size 640x480 with 1 Axes>"
      ]
     },
     "metadata": {},
     "output_type": "display_data"
    }
   ],
   "source": [
    "# Create a plot that shows the regression line from the model on the test set.\n",
    "\n",
    "plot_test = plt\n",
    "plot_test.scatter(X_test, y_test, color='gray', s = 15)\n",
    "plot_test.plot(X_test, y_predicted, color='red', linewidth =3)\n",
    "plot_test.title('Total Crime vs Median Family Income Weekly (Test set)')\n",
    "plot_test.xlabel('Total Crime')\n",
    "plot_test.ylabel('Median Family Income Weekly')\n",
    "plot_test.show()"
   ]
  },
  {
   "cell_type": "code",
   "execution_count": 239,
   "id": "89672ae6",
   "metadata": {},
   "outputs": [],
   "source": [
    "# Create objects that contain the model summary statistics.\n",
    "\n",
    "rmse = mean_squared_error(y_test, y_predicted) # This is the mean squared error\n",
    "r2 = r2_score(y_test, y_predicted) # This is the R2 score."
   ]
  },
  {
   "cell_type": "code",
   "execution_count": 240,
   "id": "14af3d4b",
   "metadata": {},
   "outputs": [
    {
     "name": "stdout",
     "output_type": "stream",
     "text": [
      "Slope: [[0.00589767]]\n",
      "Mean squared error:  179653.82833320872\n",
      "R2 score:  0.010849318923548568\n"
     ]
    }
   ],
   "source": [
    "# Print the model summary statistics. This is where you evaluate the performance of the model.\n",
    "\n",
    "print('Slope:' ,regression.coef_)\n",
    "print('Mean squared error: ', rmse)\n",
    "print('R2 score: ', r2)"
   ]
  },
  {
   "cell_type": "markdown",
   "id": "1b4f95cd",
   "metadata": {},
   "source": [
    "### Intepretation:"
   ]
  },
  {
   "cell_type": "markdown",
   "id": "f771ef37",
   "metadata": {},
   "source": [
    "The slope is positive, so in theory the relationship is positive. This does not fit my hypothesis that the higher median weekly family income, the higher the crime. The mean squared error is high at 179653 , so the regression line is not a good representation of the data. Also, the R2 score of 0.01 represents very bad fit."
   ]
  },
  {
   "cell_type": "code",
   "execution_count": 250,
   "id": "e63bd46f",
   "metadata": {},
   "outputs": [
    {
     "data": {
      "text/plain": [
       "array([[1115.16312992],\n",
       "       [1112.78047269],\n",
       "       [1138.19351724],\n",
       "       ...,\n",
       "       [1110.43320146],\n",
       "       [1113.86564331],\n",
       "       [1111.07014943]])"
      ]
     },
     "execution_count": 250,
     "metadata": {},
     "output_type": "execute_result"
    }
   ],
   "source": [
    "y_predicted"
   ]
  },
  {
   "cell_type": "code",
   "execution_count": 251,
   "id": "7e4cb314",
   "metadata": {},
   "outputs": [
    {
     "data": {
      "text/html": [
       "<div>\n",
       "<style scoped>\n",
       "    .dataframe tbody tr th:only-of-type {\n",
       "        vertical-align: middle;\n",
       "    }\n",
       "\n",
       "    .dataframe tbody tr th {\n",
       "        vertical-align: top;\n",
       "    }\n",
       "\n",
       "    .dataframe thead th {\n",
       "        text-align: right;\n",
       "    }\n",
       "</style>\n",
       "<table border=\"1\" class=\"dataframe\">\n",
       "  <thead>\n",
       "    <tr style=\"text-align: right;\">\n",
       "      <th></th>\n",
       "      <th>Actual</th>\n",
       "      <th>Predicted</th>\n",
       "    </tr>\n",
       "  </thead>\n",
       "  <tbody>\n",
       "    <tr>\n",
       "      <th>0</th>\n",
       "      <td>848</td>\n",
       "      <td>1115.163130</td>\n",
       "    </tr>\n",
       "    <tr>\n",
       "      <th>1</th>\n",
       "      <td>895</td>\n",
       "      <td>1112.780473</td>\n",
       "    </tr>\n",
       "    <tr>\n",
       "      <th>2</th>\n",
       "      <td>1142</td>\n",
       "      <td>1138.193517</td>\n",
       "    </tr>\n",
       "    <tr>\n",
       "      <th>3</th>\n",
       "      <td>786</td>\n",
       "      <td>1111.282465</td>\n",
       "    </tr>\n",
       "    <tr>\n",
       "      <th>4</th>\n",
       "      <td>1092</td>\n",
       "      <td>1110.309350</td>\n",
       "    </tr>\n",
       "    <tr>\n",
       "      <th>5</th>\n",
       "      <td>981</td>\n",
       "      <td>1120.866173</td>\n",
       "    </tr>\n",
       "    <tr>\n",
       "      <th>6</th>\n",
       "      <td>1018</td>\n",
       "      <td>1154.978276</td>\n",
       "    </tr>\n",
       "    <tr>\n",
       "      <th>7</th>\n",
       "      <td>1126</td>\n",
       "      <td>1110.315248</td>\n",
       "    </tr>\n",
       "    <tr>\n",
       "      <th>8</th>\n",
       "      <td>1096</td>\n",
       "      <td>1110.492178</td>\n",
       "    </tr>\n",
       "    <tr>\n",
       "      <th>9</th>\n",
       "      <td>2181</td>\n",
       "      <td>1110.332941</td>\n",
       "    </tr>\n",
       "    <tr>\n",
       "      <th>10</th>\n",
       "      <td>988</td>\n",
       "      <td>1111.347340</td>\n",
       "    </tr>\n",
       "    <tr>\n",
       "      <th>11</th>\n",
       "      <td>1165</td>\n",
       "      <td>1200.183889</td>\n",
       "    </tr>\n",
       "    <tr>\n",
       "      <th>12</th>\n",
       "      <td>885</td>\n",
       "      <td>1110.462690</td>\n",
       "    </tr>\n",
       "    <tr>\n",
       "      <th>13</th>\n",
       "      <td>1025</td>\n",
       "      <td>1114.762089</td>\n",
       "    </tr>\n",
       "    <tr>\n",
       "      <th>14</th>\n",
       "      <td>1085</td>\n",
       "      <td>1122.936254</td>\n",
       "    </tr>\n",
       "    <tr>\n",
       "      <th>15</th>\n",
       "      <td>2465</td>\n",
       "      <td>1110.409611</td>\n",
       "    </tr>\n",
       "    <tr>\n",
       "      <th>16</th>\n",
       "      <td>1181</td>\n",
       "      <td>1124.817610</td>\n",
       "    </tr>\n",
       "    <tr>\n",
       "      <th>17</th>\n",
       "      <td>902</td>\n",
       "      <td>1154.724676</td>\n",
       "    </tr>\n",
       "    <tr>\n",
       "      <th>18</th>\n",
       "      <td>1029</td>\n",
       "      <td>1554.669026</td>\n",
       "    </tr>\n",
       "    <tr>\n",
       "      <th>19</th>\n",
       "      <td>816</td>\n",
       "      <td>1116.106757</td>\n",
       "    </tr>\n",
       "    <tr>\n",
       "      <th>20</th>\n",
       "      <td>2178</td>\n",
       "      <td>1110.409611</td>\n",
       "    </tr>\n",
       "    <tr>\n",
       "      <th>21</th>\n",
       "      <td>895</td>\n",
       "      <td>1110.350634</td>\n",
       "    </tr>\n",
       "    <tr>\n",
       "      <th>22</th>\n",
       "      <td>999</td>\n",
       "      <td>1113.063561</td>\n",
       "    </tr>\n",
       "    <tr>\n",
       "      <th>23</th>\n",
       "      <td>988</td>\n",
       "      <td>1110.338839</td>\n",
       "    </tr>\n",
       "    <tr>\n",
       "      <th>24</th>\n",
       "      <td>1399</td>\n",
       "      <td>1127.400788</td>\n",
       "    </tr>\n",
       "    <tr>\n",
       "      <th>25</th>\n",
       "      <td>966</td>\n",
       "      <td>1112.367636</td>\n",
       "    </tr>\n",
       "    <tr>\n",
       "      <th>26</th>\n",
       "      <td>1310</td>\n",
       "      <td>1111.789665</td>\n",
       "    </tr>\n",
       "    <tr>\n",
       "      <th>27</th>\n",
       "      <td>1149</td>\n",
       "      <td>1124.829405</td>\n",
       "    </tr>\n",
       "    <tr>\n",
       "      <th>28</th>\n",
       "      <td>785</td>\n",
       "      <td>1116.708319</td>\n",
       "    </tr>\n",
       "    <tr>\n",
       "      <th>29</th>\n",
       "      <td>982</td>\n",
       "      <td>1111.813255</td>\n",
       "    </tr>\n",
       "  </tbody>\n",
       "</table>\n",
       "</div>"
      ],
      "text/plain": [
       "    Actual    Predicted\n",
       "0      848  1115.163130\n",
       "1      895  1112.780473\n",
       "2     1142  1138.193517\n",
       "3      786  1111.282465\n",
       "4     1092  1110.309350\n",
       "5      981  1120.866173\n",
       "6     1018  1154.978276\n",
       "7     1126  1110.315248\n",
       "8     1096  1110.492178\n",
       "9     2181  1110.332941\n",
       "10     988  1111.347340\n",
       "11    1165  1200.183889\n",
       "12     885  1110.462690\n",
       "13    1025  1114.762089\n",
       "14    1085  1122.936254\n",
       "15    2465  1110.409611\n",
       "16    1181  1124.817610\n",
       "17     902  1154.724676\n",
       "18    1029  1554.669026\n",
       "19     816  1116.106757\n",
       "20    2178  1110.409611\n",
       "21     895  1110.350634\n",
       "22     999  1113.063561\n",
       "23     988  1110.338839\n",
       "24    1399  1127.400788\n",
       "25     966  1112.367636\n",
       "26    1310  1111.789665\n",
       "27    1149  1124.829405\n",
       "28     785  1116.708319\n",
       "29     982  1111.813255"
      ]
     },
     "execution_count": 251,
     "metadata": {},
     "output_type": "execute_result"
    }
   ],
   "source": [
    "# Create a dataframe comparing the actual and predicted values of y.\n",
    "\n",
    "data = pd.DataFrame({'Actual': y_test.flatten(), 'Predicted': y_predicted.flatten()})\n",
    "data.head(30)"
   ]
  },
  {
   "cell_type": "markdown",
   "id": "6572593b",
   "metadata": {},
   "source": [
    "##### Compare how the regression fits the training set"
   ]
  },
  {
   "cell_type": "code",
   "execution_count": 252,
   "id": "826908ec",
   "metadata": {},
   "outputs": [],
   "source": [
    "# Predict.\n",
    "\n",
    "y_predicted_train = regression.predict(X_train) # This is predicting X_train!"
   ]
  },
  {
   "cell_type": "code",
   "execution_count": 253,
   "id": "7ccd44e6",
   "metadata": {},
   "outputs": [],
   "source": [
    "rmse = mean_squared_error(y_train, y_predicted_train)\n",
    "r2 = r2_score(y_train, y_predicted_train)"
   ]
  },
  {
   "cell_type": "code",
   "execution_count": 254,
   "id": "64d9dcd6",
   "metadata": {},
   "outputs": [
    {
     "name": "stdout",
     "output_type": "stream",
     "text": [
      "Slope: [[0.00589767]]\n",
      "Mean squared error:  180976.93640257098\n",
      "R2 score:  0.011781199267450693\n"
     ]
    }
   ],
   "source": [
    "print('Slope:' ,regression.coef_)\n",
    "print('Mean squared error: ', rmse)\n",
    "print('R2 score: ', r2)"
   ]
  },
  {
   "cell_type": "code",
   "execution_count": 246,
   "id": "29a30e7c",
   "metadata": {},
   "outputs": [
    {
     "data": {
      "image/png": "[encoded data removed]",
      "text/plain": [
       "<Figure size 640x480 with 1 Axes>"
      ]
     },
     "metadata": {},
     "output_type": "display_data"
    }
   ],
   "source": [
    "# Visualizing the training set results.\n",
    "\n",
    "plot_test = plt\n",
    "plot_test.scatter(X_train, y_train, color='green', s = 15)\n",
    "plot_test.plot(X_train, y_predicted_train, color='red', linewidth =3)\n",
    "plot_test.title('Total Crime vs Median Family Income Weekly (Train set)')\n",
    "plot_test.xlabel('Total Crime')\n",
    "plot_test.ylabel('Median Family Income Weekly')\n",
    "plot_test.show()"
   ]
  },
  {
   "cell_type": "markdown",
   "id": "790cfaac",
   "metadata": {},
   "source": [
    "### Reflections"
   ]
  },
  {
   "cell_type": "markdown",
   "id": "458abe10",
   "metadata": {},
   "source": [
    "The values in the trained set are the same as in the test set. They both have a positive relationship, a high mean square error and a low R2 score. This shows that low wages are not an indication of what the crime rate will be. You can see though, that the places that have more crime do come under the positive line, so then have a lower weekly wage. "
   ]
  },
  {
   "cell_type": "markdown",
   "id": "4b8e3ea5",
   "metadata": {},
   "source": [
    "I do not think that the model performed well because of the data. "
   ]
  },
  {
   "cell_type": "markdown",
   "id": "32e6ef08",
   "metadata": {},
   "source": [
    "### Bonus: performance improvement after removing outliers"
   ]
  },
  {
   "cell_type": "code",
   "execution_count": 259,
   "id": "770921d6",
   "metadata": {},
   "outputs": [],
   "source": [
    "# Clean the extreme values from the \"Total Crime\" variable observed during the consistency checks.\n",
    "\n",
    "df_test = df[df['Total Crime'] >=20000]"
   ]
  },
  {
   "cell_type": "code",
   "execution_count": 260,
   "id": "b724fa9e",
   "metadata": {},
   "outputs": [
    {
     "data": {
      "image/png": "[encoded data removed]",
      "text/plain": [
       "<Figure size 640x480 with 1 Axes>"
      ]
     },
     "metadata": {},
     "output_type": "display_data"
    }
   ],
   "source": [
    "# See how the scatterplot looks without outliers.\n",
    "\n",
    "df_test.plot(x = 'Total Crime', y='Median Family Income Weekly', style='o')  \n",
    "plt.title('Total Crime vs Median Family Income Weekly')  \n",
    "plt.xlabel('Total Crime')  \n",
    "plt.ylabel('Median Family Income Weekly')  \n",
    "plt.show()"
   ]
  },
  {
   "cell_type": "code",
   "execution_count": 261,
   "id": "70e3bbfd",
   "metadata": {},
   "outputs": [],
   "source": [
    "# Reshape again.\n",
    "\n",
    "X_2 = df_test['Total Crime'].values.reshape(-1,1)\n",
    "y_2 = df_test['Median Family Income Weekly'].values.reshape(-1,1)"
   ]
  },
  {
   "cell_type": "code",
   "execution_count": 262,
   "id": "9cf39343",
   "metadata": {},
   "outputs": [],
   "source": [
    "X_train_2, X_test_2, y_train_2, y_test_2 = train_test_split(X_2, y_2, test_size=0.3, random_state=0)"
   ]
  },
  {
   "cell_type": "code",
   "execution_count": 263,
   "id": "88ab6d0a",
   "metadata": {},
   "outputs": [
    {
     "data": {
      "text/plain": [
       "LinearRegression()"
      ]
     },
     "execution_count": 263,
     "metadata": {},
     "output_type": "execute_result"
    }
   ],
   "source": [
    "# Run and fit the regression.\n",
    "\n",
    "regression = LinearRegression()  \n",
    "regression.fit(X_train_2, y_train_2)"
   ]
  },
  {
   "cell_type": "code",
   "execution_count": 264,
   "id": "2dd625e6",
   "metadata": {},
   "outputs": [],
   "source": [
    "# Predict.\n",
    "\n",
    "y_predicted_2 = regression.predict(X_test_2)"
   ]
  },
  {
   "cell_type": "code",
   "execution_count": 265,
   "id": "88caff78",
   "metadata": {},
   "outputs": [],
   "source": [
    "rmse = mean_squared_error(y_test_2, y_predicted_2)\n",
    "r2 = r2_score(y_test_2, y_predicted_2)"
   ]
  },
  {
   "cell_type": "code",
   "execution_count": 266,
   "id": "c87d7c62",
   "metadata": {},
   "outputs": [
    {
     "name": "stdout",
     "output_type": "stream",
     "text": [
      "Slope: [[0.00156403]]\n",
      "Mean squared error:  149862.97285118006\n",
      "R2 score:  0.0019060004726552116\n"
     ]
    }
   ],
   "source": [
    "print('Slope:' ,regression.coef_)\n",
    "print('Mean squared error: ', rmse)\n",
    "print('R2 score: ', r2)"
   ]
  },
  {
   "cell_type": "code",
   "execution_count": 267,
   "id": "f3076750",
   "metadata": {},
   "outputs": [
    {
     "data": {
      "image/png": "[encoded data removed]",
      "text/plain": [
       "<Figure size 640x480 with 1 Axes>"
      ]
     },
     "metadata": {},
     "output_type": "display_data"
    }
   ],
   "source": [
    "# Visualizing the test set results.\n",
    "plot_test = plt\n",
    "plot_test.scatter(X_test_2, y_test_2, color='gray', s = 15)\n",
    "plot_test.plot(X_test_2, y_predicted_2, color='red', linewidth =3)\n",
    "plot_test.title('Total Crime vs Median Family Income Weekly (Test set)')\n",
    "plot_test.xlabel('Total Crime')\n",
    "plot_test.ylabel('Median Family Income Weekly')\n",
    "plot_test.show()"
   ]
  },
  {
   "cell_type": "code",
   "execution_count": 268,
   "id": "886c58db",
   "metadata": {},
   "outputs": [
    {
     "data": {
      "text/html": [
       "<div>\n",
       "<style scoped>\n",
       "    .dataframe tbody tr th:only-of-type {\n",
       "        vertical-align: middle;\n",
       "    }\n",
       "\n",
       "    .dataframe tbody tr th {\n",
       "        vertical-align: top;\n",
       "    }\n",
       "\n",
       "    .dataframe thead th {\n",
       "        text-align: right;\n",
       "    }\n",
       "</style>\n",
       "<table border=\"1\" class=\"dataframe\">\n",
       "  <thead>\n",
       "    <tr style=\"text-align: right;\">\n",
       "      <th></th>\n",
       "      <th>Actual</th>\n",
       "      <th>Predicted</th>\n",
       "    </tr>\n",
       "  </thead>\n",
       "  <tbody>\n",
       "    <tr>\n",
       "      <th>0</th>\n",
       "      <td>1388</td>\n",
       "      <td>1390.240604</td>\n",
       "    </tr>\n",
       "    <tr>\n",
       "      <th>1</th>\n",
       "      <td>1029</td>\n",
       "      <td>1347.592682</td>\n",
       "    </tr>\n",
       "    <tr>\n",
       "      <th>2</th>\n",
       "      <td>1817</td>\n",
       "      <td>1247.219608</td>\n",
       "    </tr>\n",
       "    <tr>\n",
       "      <th>3</th>\n",
       "      <td>1029</td>\n",
       "      <td>1306.890412</td>\n",
       "    </tr>\n",
       "    <tr>\n",
       "      <th>4</th>\n",
       "      <td>896</td>\n",
       "      <td>1248.666334</td>\n",
       "    </tr>\n",
       "    <tr>\n",
       "      <th>5</th>\n",
       "      <td>1800</td>\n",
       "      <td>1263.771719</td>\n",
       "    </tr>\n",
       "    <tr>\n",
       "      <th>6</th>\n",
       "      <td>996</td>\n",
       "      <td>1265.934770</td>\n",
       "    </tr>\n",
       "    <tr>\n",
       "      <th>7</th>\n",
       "      <td>1165</td>\n",
       "      <td>1303.030391</td>\n",
       "    </tr>\n",
       "    <tr>\n",
       "      <th>8</th>\n",
       "      <td>1388</td>\n",
       "      <td>1284.950225</td>\n",
       "    </tr>\n",
       "    <tr>\n",
       "      <th>9</th>\n",
       "      <td>1577</td>\n",
       "      <td>1257.212184</td>\n",
       "    </tr>\n",
       "    <tr>\n",
       "      <th>10</th>\n",
       "      <td>1153</td>\n",
       "      <td>1245.253625</td>\n",
       "    </tr>\n",
       "    <tr>\n",
       "      <th>11</th>\n",
       "      <td>958</td>\n",
       "      <td>1253.538282</td>\n",
       "    </tr>\n",
       "    <tr>\n",
       "      <th>12</th>\n",
       "      <td>1639</td>\n",
       "      <td>1365.663464</td>\n",
       "    </tr>\n",
       "    <tr>\n",
       "      <th>13</th>\n",
       "      <td>1674</td>\n",
       "      <td>1265.662629</td>\n",
       "    </tr>\n",
       "    <tr>\n",
       "      <th>14</th>\n",
       "      <td>1577</td>\n",
       "      <td>1264.783645</td>\n",
       "    </tr>\n",
       "    <tr>\n",
       "      <th>15</th>\n",
       "      <td>1388</td>\n",
       "      <td>1288.572514</td>\n",
       "    </tr>\n",
       "    <tr>\n",
       "      <th>16</th>\n",
       "      <td>2500</td>\n",
       "      <td>1297.803408</td>\n",
       "    </tr>\n",
       "    <tr>\n",
       "      <th>17</th>\n",
       "      <td>1288</td>\n",
       "      <td>1253.147275</td>\n",
       "    </tr>\n",
       "    <tr>\n",
       "      <th>18</th>\n",
       "      <td>1022</td>\n",
       "      <td>1260.850114</td>\n",
       "    </tr>\n",
       "    <tr>\n",
       "      <th>19</th>\n",
       "      <td>1153</td>\n",
       "      <td>1278.545529</td>\n",
       "    </tr>\n",
       "    <tr>\n",
       "      <th>20</th>\n",
       "      <td>1029</td>\n",
       "      <td>1263.332227</td>\n",
       "    </tr>\n",
       "    <tr>\n",
       "      <th>21</th>\n",
       "      <td>1398</td>\n",
       "      <td>1263.477681</td>\n",
       "    </tr>\n",
       "    <tr>\n",
       "      <th>22</th>\n",
       "      <td>1153</td>\n",
       "      <td>1244.455970</td>\n",
       "    </tr>\n",
       "    <tr>\n",
       "      <th>23</th>\n",
       "      <td>1288</td>\n",
       "      <td>1250.447762</td>\n",
       "    </tr>\n",
       "    <tr>\n",
       "      <th>24</th>\n",
       "      <td>1800</td>\n",
       "      <td>1248.014134</td>\n",
       "    </tr>\n",
       "    <tr>\n",
       "      <th>25</th>\n",
       "      <td>1398</td>\n",
       "      <td>1260.601433</td>\n",
       "    </tr>\n",
       "    <tr>\n",
       "      <th>26</th>\n",
       "      <td>2044</td>\n",
       "      <td>1248.046979</td>\n",
       "    </tr>\n",
       "    <tr>\n",
       "      <th>27</th>\n",
       "      <td>1639</td>\n",
       "      <td>1249.582855</td>\n",
       "    </tr>\n",
       "    <tr>\n",
       "      <th>28</th>\n",
       "      <td>1674</td>\n",
       "      <td>1245.166039</td>\n",
       "    </tr>\n",
       "    <tr>\n",
       "      <th>29</th>\n",
       "      <td>1117</td>\n",
       "      <td>1248.694487</td>\n",
       "    </tr>\n",
       "  </tbody>\n",
       "</table>\n",
       "</div>"
      ],
      "text/plain": [
       "    Actual    Predicted\n",
       "0     1388  1390.240604\n",
       "1     1029  1347.592682\n",
       "2     1817  1247.219608\n",
       "3     1029  1306.890412\n",
       "4      896  1248.666334\n",
       "5     1800  1263.771719\n",
       "6      996  1265.934770\n",
       "7     1165  1303.030391\n",
       "8     1388  1284.950225\n",
       "9     1577  1257.212184\n",
       "10    1153  1245.253625\n",
       "11     958  1253.538282\n",
       "12    1639  1365.663464\n",
       "13    1674  1265.662629\n",
       "14    1577  1264.783645\n",
       "15    1388  1288.572514\n",
       "16    2500  1297.803408\n",
       "17    1288  1253.147275\n",
       "18    1022  1260.850114\n",
       "19    1153  1278.545529\n",
       "20    1029  1263.332227\n",
       "21    1398  1263.477681\n",
       "22    1153  1244.455970\n",
       "23    1288  1250.447762\n",
       "24    1800  1248.014134\n",
       "25    1398  1260.601433\n",
       "26    2044  1248.046979\n",
       "27    1639  1249.582855\n",
       "28    1674  1245.166039\n",
       "29    1117  1248.694487"
      ]
     },
     "execution_count": 268,
     "metadata": {},
     "output_type": "execute_result"
    }
   ],
   "source": [
    "data = pd.DataFrame({'Actual': y_test_2.flatten(), 'Predicted': y_predicted_2.flatten()})\n",
    "data.head(30)"
   ]
  },
  {
   "cell_type": "code",
   "execution_count": null,
   "id": "16058a63",
   "metadata": {},
   "outputs": [],
   "source": []
  }
 ],
 "metadata": {
  "kernelspec": {
   "display_name": "Python 3 (ipykernel)",
   "language": "python",
   "name": "python3"
  },
  "language_info": {
   "codemirror_mode": {
    "name": "ipython",
    "version": 3
   },
   "file_extension": ".py",
   "mimetype": "text/x-python",
   "name": "python",
   "nbconvert_exporter": "python",
   "pygments_lexer": "ipython3",
   "version": "3.9.13"
  }
 },
 "nbformat": 4,
 "nbformat_minor": 5
}
